{
 "cells": [
  {
   "cell_type": "code",
   "execution_count": 1,
   "metadata": {
    "colab": {},
    "colab_type": "code",
    "id": "Q_hPalbkpkBV"
   },
   "outputs": [],
   "source": [
    "import pandas as pd"
   ]
  },
  {
   "cell_type": "code",
   "execution_count": 2,
   "metadata": {
    "colab": {},
    "colab_type": "code",
    "id": "tAdGABzfpkBZ"
   },
   "outputs": [],
   "source": [
    "import matplotlib.pyplot as plt\n",
    "%matplotlib inline"
   ]
  },
  {
   "cell_type": "code",
   "execution_count": 3,
   "metadata": {
    "colab": {},
    "colab_type": "code",
    "id": "EhUWAEKjpkBb"
   },
   "outputs": [],
   "source": [
    "from sklearn.model_selection import train_test_split\n",
    "from sklearn.preprocessing import LabelEncoder\n",
    "from sklearn.metrics import confusion_matrix, classification_report, accuracy_score\n",
    "from sklearn.manifold import TSNE\n",
    "from sklearn.feature_extraction.text import TfidfVectorizer"
   ]
  },
  {
   "cell_type": "code",
   "execution_count": 4,
   "metadata": {
    "colab": {
     "base_uri": "https://localhost:8080/",
     "height": 34
    },
    "colab_type": "code",
    "id": "4_O1GrotpkBd",
    "outputId": "13223a12-79f8-4422-ec85-6a33b89b90e0"
   },
   "outputs": [
    {
     "name": "stderr",
     "output_type": "stream",
     "text": [
      "C:\\New folder\\lib\\site-packages\\h5py\\__init__.py:36: FutureWarning: Conversion of the second argument of issubdtype from `float` to `np.floating` is deprecated. In future, it will be treated as `np.float64 == np.dtype(float).type`.\n",
      "  from ._conv import register_converters as _register_converters\n",
      "Using TensorFlow backend.\n"
     ]
    }
   ],
   "source": [
    "from keras.preprocessing.text import Tokenizer"
   ]
  },
  {
   "cell_type": "code",
   "execution_count": 5,
   "metadata": {
    "colab": {},
    "colab_type": "code",
    "id": "-SJU5bgSpkBg"
   },
   "outputs": [],
   "source": [
    "from keras.preprocessing.sequence import pad_sequences"
   ]
  },
  {
   "cell_type": "code",
   "execution_count": 6,
   "metadata": {
    "colab": {},
    "colab_type": "code",
    "id": "J2vVct6RpkBi"
   },
   "outputs": [],
   "source": [
    "from keras.models import Sequential"
   ]
  },
  {
   "cell_type": "code",
   "execution_count": 7,
   "metadata": {
    "colab": {},
    "colab_type": "code",
    "id": "qD9l1QpLpkBk"
   },
   "outputs": [],
   "source": [
    "from keras.layers import Activation, Dense, Dropout, Embedding, Flatten, Conv1D, MaxPooling1D, LSTM"
   ]
  },
  {
   "cell_type": "code",
   "execution_count": 8,
   "metadata": {
    "colab": {},
    "colab_type": "code",
    "id": "te5aOwZopkBn"
   },
   "outputs": [],
   "source": [
    "from keras import utils"
   ]
  },
  {
   "cell_type": "code",
   "execution_count": 9,
   "metadata": {
    "colab": {},
    "colab_type": "code",
    "id": "BCUdWfEWpkBp"
   },
   "outputs": [],
   "source": [
    "from keras.callbacks import ReduceLROnPlateau, EarlyStopping"
   ]
  },
  {
   "cell_type": "code",
   "execution_count": 10,
   "metadata": {
    "colab": {},
    "colab_type": "code",
    "id": "CjuQAboapkBt"
   },
   "outputs": [],
   "source": [
    "import nltk\n",
    "from nltk.corpus import stopwords\n",
    "from  nltk.stem import SnowballStemmer"
   ]
  },
  {
   "cell_type": "code",
   "execution_count": 11,
   "metadata": {
    "colab": {},
    "colab_type": "code",
    "id": "sntv0O88pkBu"
   },
   "outputs": [
    {
     "name": "stderr",
     "output_type": "stream",
     "text": [
      "C:\\New folder\\lib\\site-packages\\gensim\\utils.py:1197: UserWarning: detected Windows; aliasing chunkize to chunkize_serial\n",
      "  warnings.warn(\"detected Windows; aliasing chunkize to chunkize_serial\")\n"
     ]
    }
   ],
   "source": [
    "import gensim"
   ]
  },
  {
   "cell_type": "code",
   "execution_count": 12,
   "metadata": {
    "colab": {},
    "colab_type": "code",
    "id": "4Y6TwVmKpkBx"
   },
   "outputs": [],
   "source": [
    "import re"
   ]
  },
  {
   "cell_type": "code",
   "execution_count": 13,
   "metadata": {
    "colab": {},
    "colab_type": "code",
    "id": "wMCcEtGWpkBz"
   },
   "outputs": [],
   "source": [
    "import numpy as np"
   ]
  },
  {
   "cell_type": "code",
   "execution_count": 14,
   "metadata": {
    "colab": {},
    "colab_type": "code",
    "id": "jMib3e-opkB1"
   },
   "outputs": [],
   "source": [
    "import os"
   ]
  },
  {
   "cell_type": "code",
   "execution_count": 15,
   "metadata": {
    "colab": {},
    "colab_type": "code",
    "id": "HnzHd0tFpkB3"
   },
   "outputs": [],
   "source": [
    "from collections import Counter"
   ]
  },
  {
   "cell_type": "code",
   "execution_count": 16,
   "metadata": {
    "colab": {},
    "colab_type": "code",
    "id": "bZs7B2p-pkB5"
   },
   "outputs": [],
   "source": [
    "import logging"
   ]
  },
  {
   "cell_type": "markdown",
   "metadata": {
    "colab": {},
    "colab_type": "code",
    "id": "WbWd7wwYpkB7"
   },
   "source": [
    "import `"
   ]
  },
  {
   "cell_type": "code",
   "execution_count": 17,
   "metadata": {
    "colab": {},
    "colab_type": "code",
    "id": "xixhIMxupkB9"
   },
   "outputs": [],
   "source": [
    "import pickle"
   ]
  },
  {
   "cell_type": "code",
   "execution_count": 18,
   "metadata": {
    "colab": {},
    "colab_type": "code",
    "id": "IeGxzbBBpkCB"
   },
   "outputs": [],
   "source": [
    "import itertools"
   ]
  },
  {
   "cell_type": "code",
   "execution_count": 19,
   "metadata": {
    "colab": {},
    "colab_type": "code",
    "id": "RSaCqyGLpkCE"
   },
   "outputs": [],
   "source": [
    "logging.basicConfig(format='%(asctime)s : %(levelname)s : %(message)s', level=logging.INFO)"
   ]
  },
  {
   "cell_type": "code",
   "execution_count": 20,
   "metadata": {
    "colab": {
     "base_uri": "https://localhost:8080/",
     "height": 68
    },
    "colab_type": "code",
    "id": "AdMx7sA7pkCG",
    "outputId": "d8624d28-e317-4ce7-b1b9-cdda8371589a"
   },
   "outputs": [
    {
     "name": "stdout",
     "output_type": "stream",
     "text": [
      "[nltk_data] Downloading package stopwords to\n",
      "[nltk_data]     C:\\Users\\Virendra\\AppData\\Roaming\\nltk_data...\n",
      "[nltk_data]   Package stopwords is already up-to-date!\n"
     ]
    },
    {
     "data": {
      "text/plain": [
       "True"
      ]
     },
     "execution_count": 20,
     "metadata": {},
     "output_type": "execute_result"
    }
   ],
   "source": [
    "nltk.download('stopwords')"
   ]
  },
  {
   "cell_type": "code",
   "execution_count": 21,
   "metadata": {
    "colab": {},
    "colab_type": "code",
    "id": "vXtYkhhSpkCJ"
   },
   "outputs": [],
   "source": [
    "# DATASET\n",
    "DATASET_COLUMNS = [\"target\", \"ids\", \"date\", \"flag\", \"user\", \"text\"]\n",
    "DATASET_ENCODING = \"ISO-8859-1\"\n",
    "TRAIN_SIZE = 0.8\n",
    "\n",
    "# TEXT CLENAING\n",
    "TEXT_CLEANING_RE = \"@\\S+|https?:\\S+|http?:\\S|[^A-Za-z0-9]+\"\n",
    "\n",
    "# WORD2VEC \n",
    "W2V_SIZE = 300\n",
    "W2V_WINDOW = 7\n",
    "W2V_EPOCH = 32\n",
    "W2V_MIN_COUNT = 10\n",
    "\n",
    "# KERAS\n",
    "SEQUENCE_LENGTH = 300\n",
    "EPOCHS = 8\n",
    "BATCH_SIZE = 1024\n",
    "\n",
    "# SENTIMENT\n",
    "POSITIVE = \"POSITIVE\"\n",
    "NEGATIVE = \"NEGATIVE\"\n",
    "NEUTRAL = \"NEUTRAL\"\n",
    "SENTIMENT_THRESHOLDS = (0.4, 0.7)\n",
    "\n",
    "# EXPORT\n",
    "KERAS_MODEL = \"model.h5\"\n",
    "WORD2VEC_MODEL = \"model.w2v\"\n",
    "TOKENIZER_MODEL = \"tokenizer.pkl\"\n",
    "ENCODER_MODEL = \"encoder.pkl\""
   ]
  },
  {
   "cell_type": "code",
   "execution_count": 22,
   "metadata": {
    "colab": {},
    "colab_type": "code",
    "id": "452mEQAirys_"
   },
   "outputs": [],
   "source": [
    "df = pd.read_csv(\"training.1600000.processed.noemoticon.csv\", encoding =DATASET_ENCODING , names=DATASET_COLUMNS)"
   ]
  },
  {
   "cell_type": "code",
   "execution_count": 23,
   "metadata": {
    "colab": {
     "base_uri": "https://localhost:8080/",
     "height": 34
    },
    "colab_type": "code",
    "id": "4HmuWxeopkCN",
    "outputId": "915c73cb-244a-4ccb-c5b5-c2f7b2c62b73"
   },
   "outputs": [
    {
     "name": "stdout",
     "output_type": "stream",
     "text": [
      "Dataset size: 1600000\n"
     ]
    }
   ],
   "source": [
    "print(\"Dataset size:\", len(df))"
   ]
  },
  {
   "cell_type": "code",
   "execution_count": 24,
   "metadata": {
    "colab": {
     "base_uri": "https://localhost:8080/",
     "height": 204
    },
    "colab_type": "code",
    "id": "k8_YgUbqpkCO",
    "outputId": "e5fb97e4-e510-4da8-c3d9-7c17f98f5299"
   },
   "outputs": [
    {
     "data": {
      "text/html": [
       "<div>\n",
       "<style scoped>\n",
       "    .dataframe tbody tr th:only-of-type {\n",
       "        vertical-align: middle;\n",
       "    }\n",
       "\n",
       "    .dataframe tbody tr th {\n",
       "        vertical-align: top;\n",
       "    }\n",
       "\n",
       "    .dataframe thead th {\n",
       "        text-align: right;\n",
       "    }\n",
       "</style>\n",
       "<table border=\"1\" class=\"dataframe\">\n",
       "  <thead>\n",
       "    <tr style=\"text-align: right;\">\n",
       "      <th></th>\n",
       "      <th>target</th>\n",
       "      <th>ids</th>\n",
       "      <th>date</th>\n",
       "      <th>flag</th>\n",
       "      <th>user</th>\n",
       "      <th>text</th>\n",
       "    </tr>\n",
       "  </thead>\n",
       "  <tbody>\n",
       "    <tr>\n",
       "      <th>0</th>\n",
       "      <td>0</td>\n",
       "      <td>1467810369</td>\n",
       "      <td>Mon Apr 06 22:19:45 PDT 2009</td>\n",
       "      <td>NO_QUERY</td>\n",
       "      <td>_TheSpecialOne_</td>\n",
       "      <td>@switchfoot http://twitpic.com/2y1zl - Awww, t...</td>\n",
       "    </tr>\n",
       "    <tr>\n",
       "      <th>1</th>\n",
       "      <td>0</td>\n",
       "      <td>1467810672</td>\n",
       "      <td>Mon Apr 06 22:19:49 PDT 2009</td>\n",
       "      <td>NO_QUERY</td>\n",
       "      <td>scotthamilton</td>\n",
       "      <td>is upset that he can't update his Facebook by ...</td>\n",
       "    </tr>\n",
       "    <tr>\n",
       "      <th>2</th>\n",
       "      <td>0</td>\n",
       "      <td>1467810917</td>\n",
       "      <td>Mon Apr 06 22:19:53 PDT 2009</td>\n",
       "      <td>NO_QUERY</td>\n",
       "      <td>mattycus</td>\n",
       "      <td>@Kenichan I dived many times for the ball. Man...</td>\n",
       "    </tr>\n",
       "    <tr>\n",
       "      <th>3</th>\n",
       "      <td>0</td>\n",
       "      <td>1467811184</td>\n",
       "      <td>Mon Apr 06 22:19:57 PDT 2009</td>\n",
       "      <td>NO_QUERY</td>\n",
       "      <td>ElleCTF</td>\n",
       "      <td>my whole body feels itchy and like its on fire</td>\n",
       "    </tr>\n",
       "    <tr>\n",
       "      <th>4</th>\n",
       "      <td>0</td>\n",
       "      <td>1467811193</td>\n",
       "      <td>Mon Apr 06 22:19:57 PDT 2009</td>\n",
       "      <td>NO_QUERY</td>\n",
       "      <td>Karoli</td>\n",
       "      <td>@nationwideclass no, it's not behaving at all....</td>\n",
       "    </tr>\n",
       "  </tbody>\n",
       "</table>\n",
       "</div>"
      ],
      "text/plain": [
       "   target         ids                          date      flag  \\\n",
       "0       0  1467810369  Mon Apr 06 22:19:45 PDT 2009  NO_QUERY   \n",
       "1       0  1467810672  Mon Apr 06 22:19:49 PDT 2009  NO_QUERY   \n",
       "2       0  1467810917  Mon Apr 06 22:19:53 PDT 2009  NO_QUERY   \n",
       "3       0  1467811184  Mon Apr 06 22:19:57 PDT 2009  NO_QUERY   \n",
       "4       0  1467811193  Mon Apr 06 22:19:57 PDT 2009  NO_QUERY   \n",
       "\n",
       "              user                                               text  \n",
       "0  _TheSpecialOne_  @switchfoot http://twitpic.com/2y1zl - Awww, t...  \n",
       "1    scotthamilton  is upset that he can't update his Facebook by ...  \n",
       "2         mattycus  @Kenichan I dived many times for the ball. Man...  \n",
       "3          ElleCTF    my whole body feels itchy and like its on fire   \n",
       "4           Karoli  @nationwideclass no, it's not behaving at all....  "
      ]
     },
     "execution_count": 24,
     "metadata": {},
     "output_type": "execute_result"
    }
   ],
   "source": [
    "df.head(5)"
   ]
  },
  {
   "cell_type": "code",
   "execution_count": 25,
   "metadata": {
    "colab": {},
    "colab_type": "code",
    "id": "s308hqrUpkCR"
   },
   "outputs": [],
   "source": [
    "decode_map = {0: \"NEGATIVE\", 2: \"NEUTRAL\", 4: \"POSITIVE\"}\n",
    "def decode_sentiment(label):\n",
    "    return decode_map[int(label)]"
   ]
  },
  {
   "cell_type": "code",
   "execution_count": 26,
   "metadata": {
    "colab": {
     "base_uri": "https://localhost:8080/",
     "height": 51
    },
    "colab_type": "code",
    "id": "DHmbIPsypkCS",
    "outputId": "2b7d215a-40b6-4d46-d415-352a513de1f2"
   },
   "outputs": [
    {
     "name": "stdout",
     "output_type": "stream",
     "text": [
      "Wall time: 1.45 s\n"
     ]
    }
   ],
   "source": [
    "%%time\n",
    "df.target = df.target.apply(lambda x: decode_sentiment(x))"
   ]
  },
  {
   "cell_type": "code",
   "execution_count": 27,
   "metadata": {
    "colab": {
     "base_uri": "https://localhost:8080/",
     "height": 515
    },
    "colab_type": "code",
    "id": "1-Z5I_EupkCU",
    "outputId": "8ede645e-c657-4b31-b556-ce378a617b91"
   },
   "outputs": [
    {
     "data": {
      "text/plain": [
       "Text(0.5,1,'Dataset labels distribuition')"
      ]
     },
     "execution_count": 27,
     "metadata": {},
     "output_type": "execute_result"
    },
    {
     "data": {
      "image/png": "[encoded data removed]",
      "text/plain": [
       "<matplotlib.figure.Figure at 0x1cf4ca590f0>"
      ]
     },
     "metadata": {
      "needs_background": "light"
     },
     "output_type": "display_data"
    }
   ],
   "source": [
    "target_cnt = Counter(df.target)\n",
    "\n",
    "plt.figure(figsize=(16,8))\n",
    "plt.bar(target_cnt.keys(), target_cnt.values())\n",
    "plt.title(\"Dataset labels distribuition\")"
   ]
  },
  {
   "cell_type": "code",
   "execution_count": 28,
   "metadata": {
    "colab": {},
    "colab_type": "code",
    "id": "5TGCUZbrpkCW"
   },
   "outputs": [],
   "source": [
    "stop_words = stopwords.words(\"english\")\n",
    "stemmer = SnowballStemmer(\"english\")"
   ]
  },
  {
   "cell_type": "code",
   "execution_count": 29,
   "metadata": {
    "colab": {},
    "colab_type": "code",
    "id": "v_950pBbpkCY"
   },
   "outputs": [],
   "source": [
    "def preprocess(text, stem=False):\n",
    "    # Remove link,user and special characters\n",
    "    text = re.sub(TEXT_CLEANING_RE, ' ', str(text).lower()).strip()\n",
    "    tokens = []\n",
    "    for token in text.split():\n",
    "        if token not in stop_words:\n",
    "            if stem:\n",
    "                tokens.append(stemmer.stem(token))\n",
    "            else:\n",
    "                tokens.append(token)\n",
    "    return \" \".join(tokens)"
   ]
  },
  {
   "cell_type": "code",
   "execution_count": 30,
   "metadata": {
    "colab": {
     "base_uri": "https://localhost:8080/",
     "height": 51
    },
    "colab_type": "code",
    "id": "4FY_8CsvpkCa",
    "outputId": "1a8a430c-7289-4aed-e616-acde2dca76a5"
   },
   "outputs": [
    {
     "name": "stdout",
     "output_type": "stream",
     "text": [
      "Wall time: 1min 42s\n"
     ]
    }
   ],
   "source": [
    "%%time\n",
    "df.text = df.text.apply(lambda x: preprocess(x))"
   ]
  },
  {
   "cell_type": "code",
   "execution_count": 31,
   "metadata": {
    "colab": {
     "base_uri": "https://localhost:8080/",
     "height": 51
    },
    "colab_type": "code",
    "id": "x4WcQNknpkCc",
    "outputId": "422bd215-762f-4e9d-bc3e-46df876b71c9"
   },
   "outputs": [
    {
     "name": "stdout",
     "output_type": "stream",
     "text": [
      "TRAIN size: 1280000\n",
      "TEST size: 320000\n"
     ]
    }
   ],
   "source": [
    "df_train, df_test = train_test_split(df, test_size=1-TRAIN_SIZE, random_state=42)\n",
    "print(\"TRAIN size:\", len(df_train))\n",
    "print(\"TEST size:\", len(df_test))"
   ]
  },
  {
   "cell_type": "code",
   "execution_count": 32,
   "metadata": {
    "colab": {
     "base_uri": "https://localhost:8080/",
     "height": 51
    },
    "colab_type": "code",
    "id": "OnadpzFPpkCe",
    "outputId": "b94dbda6-6105-46c4-c4d3-f50509dda92d"
   },
   "outputs": [
    {
     "name": "stdout",
     "output_type": "stream",
     "text": [
      "Wall time: 4.03 s\n"
     ]
    }
   ],
   "source": [
    "%%time\n",
    "documents = [_text.split() for _text in df_train.text] "
   ]
  },
  {
   "cell_type": "code",
   "execution_count": 33,
   "metadata": {
    "colab": {},
    "colab_type": "code",
    "id": "SnxfBMr4pkCg"
   },
   "outputs": [],
   "source": [
    "w2v_model = gensim.models.word2vec.Word2Vec(size=W2V_SIZE, \n",
    "                                            window=W2V_WINDOW, \n",
    "                                            min_count=W2V_MIN_COUNT, \n",
    "                                            workers=8)"
   ]
  },
  {
   "cell_type": "code",
   "execution_count": 34,
   "metadata": {
    "colab": {
     "base_uri": "https://localhost:8080/",
     "height": 2363
    },
    "colab_type": "code",
    "id": "vBmC_SkKpkCi",
    "outputId": "723c7cea-3b11-4f5b-dbf2-46cfdb5e5756"
   },
   "outputs": [
    {
     "name": "stderr",
     "output_type": "stream",
     "text": [
      "2019-08-12 11:18:51,793 : INFO : collecting all words and their counts\n",
      "2019-08-12 11:18:51,795 : INFO : PROGRESS: at sentence #0, processed 0 words, keeping 0 word types\n",
      "2019-08-12 11:18:51,822 : INFO : PROGRESS: at sentence #10000, processed 72565 words, keeping 14005 word types\n",
      "2019-08-12 11:18:51,867 : INFO : PROGRESS: at sentence #20000, processed 144393 words, keeping 21587 word types\n",
      "2019-08-12 11:18:51,936 : INFO : PROGRESS: at sentence #30000, processed 215826 words, keeping 27541 word types\n",
      "2019-08-12 11:18:51,994 : INFO : PROGRESS: at sentence #40000, processed 288271 words, keeping 32764 word types\n",
      "2019-08-12 11:18:52,040 : INFO : PROGRESS: at sentence #50000, processed 359772 words, keeping 37587 word types\n",
      "2019-08-12 11:18:52,110 : INFO : PROGRESS: at sentence #60000, processed 431431 words, keeping 42198 word types\n",
      "2019-08-12 11:18:52,158 : INFO : PROGRESS: at sentence #70000, processed 503103 words, keeping 46458 word types\n",
      "2019-08-12 11:18:52,214 : INFO : PROGRESS: at sentence #80000, processed 575709 words, keeping 50476 word types\n",
      "2019-08-12 11:18:52,274 : INFO : PROGRESS: at sentence #90000, processed 647100 words, keeping 54140 word types\n",
      "2019-08-12 11:18:52,326 : INFO : PROGRESS: at sentence #100000, processed 718681 words, keeping 57777 word types\n",
      "2019-08-12 11:18:52,359 : INFO : PROGRESS: at sentence #110000, processed 790696 words, keeping 61207 word types\n",
      "2019-08-12 11:18:52,431 : INFO : PROGRESS: at sentence #120000, processed 863134 words, keeping 64583 word types\n",
      "2019-08-12 11:18:52,475 : INFO : PROGRESS: at sentence #130000, processed 935111 words, keeping 67865 word types\n",
      "2019-08-12 11:18:52,542 : INFO : PROGRESS: at sentence #140000, processed 1006668 words, keeping 70966 word types\n",
      "2019-08-12 11:18:52,583 : INFO : PROGRESS: at sentence #150000, processed 1078512 words, keeping 74119 word types\n",
      "2019-08-12 11:18:52,636 : INFO : PROGRESS: at sentence #160000, processed 1149914 words, keeping 77187 word types\n",
      "2019-08-12 11:18:52,700 : INFO : PROGRESS: at sentence #170000, processed 1222145 words, keeping 80267 word types\n",
      "2019-08-12 11:18:52,725 : INFO : PROGRESS: at sentence #180000, processed 1294708 words, keeping 83393 word types\n",
      "2019-08-12 11:18:52,785 : INFO : PROGRESS: at sentence #190000, processed 1367608 words, keeping 86329 word types\n",
      "2019-08-12 11:18:52,847 : INFO : PROGRESS: at sentence #200000, processed 1439469 words, keeping 89103 word types\n",
      "2019-08-12 11:18:52,891 : INFO : PROGRESS: at sentence #210000, processed 1512099 words, keeping 91840 word types\n",
      "2019-08-12 11:18:52,948 : INFO : PROGRESS: at sentence #220000, processed 1584149 words, keeping 94636 word types\n",
      "2019-08-12 11:18:52,993 : INFO : PROGRESS: at sentence #230000, processed 1656354 words, keeping 97353 word types\n",
      "2019-08-12 11:18:53,049 : INFO : PROGRESS: at sentence #240000, processed 1728573 words, keeping 99975 word types\n",
      "2019-08-12 11:18:53,094 : INFO : PROGRESS: at sentence #250000, processed 1801102 words, keeping 102594 word types\n",
      "2019-08-12 11:18:53,146 : INFO : PROGRESS: at sentence #260000, processed 1873103 words, keeping 105162 word types\n",
      "2019-08-12 11:18:53,204 : INFO : PROGRESS: at sentence #270000, processed 1945245 words, keeping 107626 word types\n",
      "2019-08-12 11:18:53,265 : INFO : PROGRESS: at sentence #280000, processed 2017163 words, keeping 110141 word types\n",
      "2019-08-12 11:18:53,309 : INFO : PROGRESS: at sentence #290000, processed 2089574 words, keeping 112539 word types\n",
      "2019-08-12 11:18:53,372 : INFO : PROGRESS: at sentence #300000, processed 2160996 words, keeping 114893 word types\n",
      "2019-08-12 11:18:53,454 : INFO : PROGRESS: at sentence #310000, processed 2232913 words, keeping 117298 word types\n",
      "2019-08-12 11:18:53,503 : INFO : PROGRESS: at sentence #320000, processed 2305039 words, keeping 119693 word types\n",
      "2019-08-12 11:18:53,554 : INFO : PROGRESS: at sentence #330000, processed 2377119 words, keeping 122131 word types\n",
      "2019-08-12 11:18:53,613 : INFO : PROGRESS: at sentence #340000, processed 2449370 words, keeping 124416 word types\n",
      "2019-08-12 11:18:53,654 : INFO : PROGRESS: at sentence #350000, processed 2521564 words, keeping 126669 word types\n",
      "2019-08-12 11:18:53,707 : INFO : PROGRESS: at sentence #360000, processed 2593681 words, keeping 128912 word types\n",
      "2019-08-12 11:18:53,760 : INFO : PROGRESS: at sentence #370000, processed 2665692 words, keeping 131135 word types\n",
      "2019-08-12 11:18:53,813 : INFO : PROGRESS: at sentence #380000, processed 2737859 words, keeping 133403 word types\n",
      "2019-08-12 11:18:53,853 : INFO : PROGRESS: at sentence #390000, processed 2809848 words, keeping 135551 word types\n",
      "2019-08-12 11:18:53,911 : INFO : PROGRESS: at sentence #400000, processed 2882438 words, keeping 137742 word types\n",
      "2019-08-12 11:18:53,961 : INFO : PROGRESS: at sentence #410000, processed 2954075 words, keeping 139909 word types\n",
      "2019-08-12 11:18:54,054 : INFO : PROGRESS: at sentence #420000, processed 3026247 words, keeping 142144 word types\n",
      "2019-08-12 11:18:54,128 : INFO : PROGRESS: at sentence #430000, processed 3098659 words, keeping 144364 word types\n",
      "2019-08-12 11:18:54,180 : INFO : PROGRESS: at sentence #440000, processed 3170663 words, keeping 146439 word types\n",
      "2019-08-12 11:18:54,250 : INFO : PROGRESS: at sentence #450000, processed 3243344 words, keeping 148526 word types\n",
      "2019-08-12 11:18:54,313 : INFO : PROGRESS: at sentence #460000, processed 3315466 words, keeping 150610 word types\n",
      "2019-08-12 11:18:54,378 : INFO : PROGRESS: at sentence #470000, processed 3388295 words, keeping 152737 word types\n",
      "2019-08-12 11:18:54,442 : INFO : PROGRESS: at sentence #480000, processed 3460120 words, keeping 154757 word types\n",
      "2019-08-12 11:18:54,491 : INFO : PROGRESS: at sentence #490000, processed 3531883 words, keeping 156825 word types\n",
      "2019-08-12 11:18:54,540 : INFO : PROGRESS: at sentence #500000, processed 3604217 words, keeping 158859 word types\n",
      "2019-08-12 11:18:54,598 : INFO : PROGRESS: at sentence #510000, processed 3676427 words, keeping 160852 word types\n",
      "2019-08-12 11:18:54,638 : INFO : PROGRESS: at sentence #520000, processed 3749045 words, keeping 162863 word types\n",
      "2019-08-12 11:18:54,688 : INFO : PROGRESS: at sentence #530000, processed 3821622 words, keeping 164929 word types\n",
      "2019-08-12 11:18:54,747 : INFO : PROGRESS: at sentence #540000, processed 3893627 words, keeping 166840 word types\n",
      "2019-08-12 11:18:54,800 : INFO : PROGRESS: at sentence #550000, processed 3965477 words, keeping 168799 word types\n",
      "2019-08-12 11:18:54,858 : INFO : PROGRESS: at sentence #560000, processed 4038050 words, keeping 170802 word types\n",
      "2019-08-12 11:18:54,914 : INFO : PROGRESS: at sentence #570000, processed 4110296 words, keeping 172760 word types\n",
      "2019-08-12 11:18:54,981 : INFO : PROGRESS: at sentence #580000, processed 4182385 words, keeping 174635 word types\n",
      "2019-08-12 11:18:55,050 : INFO : PROGRESS: at sentence #590000, processed 4254632 words, keeping 176470 word types\n",
      "2019-08-12 11:18:55,134 : INFO : PROGRESS: at sentence #600000, processed 4326859 words, keeping 178350 word types\n",
      "2019-08-12 11:18:55,196 : INFO : PROGRESS: at sentence #610000, processed 4399183 words, keeping 180290 word types\n",
      "2019-08-12 11:18:55,255 : INFO : PROGRESS: at sentence #620000, processed 4471343 words, keeping 182129 word types\n",
      "2019-08-12 11:18:55,297 : INFO : PROGRESS: at sentence #630000, processed 4543286 words, keeping 184005 word types\n",
      "2019-08-12 11:18:55,347 : INFO : PROGRESS: at sentence #640000, processed 4615780 words, keeping 185835 word types\n",
      "2019-08-12 11:18:55,396 : INFO : PROGRESS: at sentence #650000, processed 4688481 words, keeping 187705 word types\n",
      "2019-08-12 11:18:55,439 : INFO : PROGRESS: at sentence #660000, processed 4760481 words, keeping 189439 word types\n",
      "2019-08-12 11:18:55,493 : INFO : PROGRESS: at sentence #670000, processed 4833024 words, keeping 191232 word types\n",
      "2019-08-12 11:18:55,540 : INFO : PROGRESS: at sentence #680000, processed 4904516 words, keeping 193177 word types\n",
      "2019-08-12 11:18:55,597 : INFO : PROGRESS: at sentence #690000, processed 4976968 words, keeping 194960 word types\n",
      "2019-08-12 11:18:55,653 : INFO : PROGRESS: at sentence #700000, processed 5049412 words, keeping 196725 word types\n",
      "2019-08-12 11:18:55,705 : INFO : PROGRESS: at sentence #710000, processed 5121976 words, keeping 198516 word types\n"
     ]
    },
    {
     "name": "stderr",
     "output_type": "stream",
     "text": [
      "2019-08-12 11:18:55,747 : INFO : PROGRESS: at sentence #720000, processed 5193881 words, keeping 200325 word types\n",
      "2019-08-12 11:18:55,808 : INFO : PROGRESS: at sentence #730000, processed 5265467 words, keeping 202133 word types\n",
      "2019-08-12 11:18:55,873 : INFO : PROGRESS: at sentence #740000, processed 5337518 words, keeping 203818 word types\n",
      "2019-08-12 11:18:55,938 : INFO : PROGRESS: at sentence #750000, processed 5409321 words, keeping 205535 word types\n",
      "2019-08-12 11:18:56,005 : INFO : PROGRESS: at sentence #760000, processed 5481512 words, keeping 207282 word types\n",
      "2019-08-12 11:18:56,071 : INFO : PROGRESS: at sentence #770000, processed 5554093 words, keeping 209076 word types\n",
      "2019-08-12 11:18:56,133 : INFO : PROGRESS: at sentence #780000, processed 5625382 words, keeping 210805 word types\n",
      "2019-08-12 11:18:56,231 : INFO : PROGRESS: at sentence #790000, processed 5698066 words, keeping 212618 word types\n",
      "2019-08-12 11:18:56,277 : INFO : PROGRESS: at sentence #800000, processed 5770880 words, keeping 214374 word types\n",
      "2019-08-12 11:18:56,315 : INFO : PROGRESS: at sentence #810000, processed 5843418 words, keeping 216009 word types\n",
      "2019-08-12 11:18:56,369 : INFO : PROGRESS: at sentence #820000, processed 5915628 words, keeping 217804 word types\n",
      "2019-08-12 11:18:56,428 : INFO : PROGRESS: at sentence #830000, processed 5987499 words, keeping 219585 word types\n",
      "2019-08-12 11:18:56,488 : INFO : PROGRESS: at sentence #840000, processed 6058973 words, keeping 221344 word types\n",
      "2019-08-12 11:18:56,543 : INFO : PROGRESS: at sentence #850000, processed 6131125 words, keeping 223002 word types\n",
      "2019-08-12 11:18:56,589 : INFO : PROGRESS: at sentence #860000, processed 6202951 words, keeping 224643 word types\n",
      "2019-08-12 11:18:56,636 : INFO : PROGRESS: at sentence #870000, processed 6275461 words, keeping 226362 word types\n",
      "2019-08-12 11:18:56,686 : INFO : PROGRESS: at sentence #880000, processed 6347661 words, keeping 227986 word types\n",
      "2019-08-12 11:18:56,736 : INFO : PROGRESS: at sentence #890000, processed 6419806 words, keeping 229634 word types\n",
      "2019-08-12 11:18:56,781 : INFO : PROGRESS: at sentence #900000, processed 6491644 words, keeping 231389 word types\n",
      "2019-08-12 11:18:56,827 : INFO : PROGRESS: at sentence #910000, processed 6564022 words, keeping 233050 word types\n",
      "2019-08-12 11:18:56,870 : INFO : PROGRESS: at sentence #920000, processed 6636228 words, keeping 234686 word types\n",
      "2019-08-12 11:18:56,957 : INFO : PROGRESS: at sentence #930000, processed 6708573 words, keeping 236393 word types\n",
      "2019-08-12 11:18:57,057 : INFO : PROGRESS: at sentence #940000, processed 6779956 words, keeping 238052 word types\n",
      "2019-08-12 11:18:57,126 : INFO : PROGRESS: at sentence #950000, processed 6852599 words, keeping 239716 word types\n",
      "2019-08-12 11:18:57,188 : INFO : PROGRESS: at sentence #960000, processed 6924717 words, keeping 241354 word types\n",
      "2019-08-12 11:18:57,272 : INFO : PROGRESS: at sentence #970000, processed 6996992 words, keeping 242980 word types\n",
      "2019-08-12 11:18:57,338 : INFO : PROGRESS: at sentence #980000, processed 7068402 words, keeping 244646 word types\n",
      "2019-08-12 11:18:57,387 : INFO : PROGRESS: at sentence #990000, processed 7140346 words, keeping 246186 word types\n",
      "2019-08-12 11:18:57,433 : INFO : PROGRESS: at sentence #1000000, processed 7211757 words, keeping 247726 word types\n",
      "2019-08-12 11:18:57,500 : INFO : PROGRESS: at sentence #1010000, processed 7283267 words, keeping 249288 word types\n",
      "2019-08-12 11:18:57,553 : INFO : PROGRESS: at sentence #1020000, processed 7355299 words, keeping 250860 word types\n",
      "2019-08-12 11:18:57,594 : INFO : PROGRESS: at sentence #1030000, processed 7426918 words, keeping 252366 word types\n",
      "2019-08-12 11:18:57,656 : INFO : PROGRESS: at sentence #1040000, processed 7498815 words, keeping 253930 word types\n",
      "2019-08-12 11:18:57,703 : INFO : PROGRESS: at sentence #1050000, processed 7570499 words, keeping 255471 word types\n",
      "2019-08-12 11:18:57,737 : INFO : PROGRESS: at sentence #1060000, processed 7643251 words, keeping 257035 word types\n",
      "2019-08-12 11:18:57,784 : INFO : PROGRESS: at sentence #1070000, processed 7714721 words, keeping 258509 word types\n",
      "2019-08-12 11:18:57,827 : INFO : PROGRESS: at sentence #1080000, processed 7787371 words, keeping 260071 word types\n",
      "2019-08-12 11:18:57,889 : INFO : PROGRESS: at sentence #1090000, processed 7859336 words, keeping 261683 word types\n",
      "2019-08-12 11:18:57,937 : INFO : PROGRESS: at sentence #1100000, processed 7932029 words, keeping 263278 word types\n",
      "2019-08-12 11:18:57,983 : INFO : PROGRESS: at sentence #1110000, processed 8004146 words, keeping 264800 word types\n",
      "2019-08-12 11:18:58,037 : INFO : PROGRESS: at sentence #1120000, processed 8075880 words, keeping 266309 word types\n",
      "2019-08-12 11:18:58,087 : INFO : PROGRESS: at sentence #1130000, processed 8148163 words, keeping 267826 word types\n",
      "2019-08-12 11:18:58,182 : INFO : PROGRESS: at sentence #1140000, processed 8220487 words, keeping 269391 word types\n",
      "2019-08-12 11:18:58,271 : INFO : PROGRESS: at sentence #1150000, processed 8292498 words, keeping 270894 word types\n",
      "2019-08-12 11:18:58,331 : INFO : PROGRESS: at sentence #1160000, processed 8363838 words, keeping 272400 word types\n",
      "2019-08-12 11:18:58,418 : INFO : PROGRESS: at sentence #1170000, processed 8435510 words, keeping 273970 word types\n",
      "2019-08-12 11:18:58,467 : INFO : PROGRESS: at sentence #1180000, processed 8507795 words, keeping 275521 word types\n",
      "2019-08-12 11:18:58,519 : INFO : PROGRESS: at sentence #1190000, processed 8579080 words, keeping 277007 word types\n",
      "2019-08-12 11:18:58,574 : INFO : PROGRESS: at sentence #1200000, processed 8650606 words, keeping 278457 word types\n",
      "2019-08-12 11:18:58,620 : INFO : PROGRESS: at sentence #1210000, processed 8721893 words, keeping 279959 word types\n",
      "2019-08-12 11:18:58,662 : INFO : PROGRESS: at sentence #1220000, processed 8793795 words, keeping 281427 word types\n",
      "2019-08-12 11:18:58,738 : INFO : PROGRESS: at sentence #1230000, processed 8865726 words, keeping 282981 word types\n",
      "2019-08-12 11:18:58,829 : INFO : PROGRESS: at sentence #1240000, processed 8938173 words, keeping 284542 word types\n",
      "2019-08-12 11:18:58,902 : INFO : PROGRESS: at sentence #1250000, processed 9010842 words, keeping 286064 word types\n",
      "2019-08-12 11:18:58,965 : INFO : PROGRESS: at sentence #1260000, processed 9083261 words, keeping 287521 word types\n",
      "2019-08-12 11:18:59,032 : INFO : PROGRESS: at sentence #1270000, processed 9155616 words, keeping 288987 word types\n",
      "2019-08-12 11:18:59,092 : INFO : collected 290418 word types from a corpus of 9227204 raw words and 1280000 sentences\n",
      "2019-08-12 11:18:59,095 : INFO : Loading a fresh vocabulary\n",
      "2019-08-12 11:18:59,459 : INFO : min_count=10 retains 30369 unique words (10% of original 290418, drops 260049)\n",
      "2019-08-12 11:18:59,459 : INFO : min_count=10 leaves 8780739 word corpus (95% of original 9227204, drops 446465)\n",
      "2019-08-12 11:18:59,695 : INFO : deleting the raw counts dictionary of 290418 items\n",
      "2019-08-12 11:18:59,711 : INFO : sample=0.001 downsamples 45 most-common words\n",
      "2019-08-12 11:18:59,713 : INFO : downsampling leaves estimated 8222658 word corpus (93.6% of prior 8780739)\n",
      "2019-08-12 11:18:59,895 : INFO : estimated required memory for 30369 words and 300 dimensions: 88070100 bytes\n",
      "2019-08-12 11:18:59,895 : INFO : resetting layer weights\n"
     ]
    }
   ],
   "source": [
    "w2v_model.build_vocab(documents)"
   ]
  },
  {
   "cell_type": "code",
   "execution_count": 36,
   "metadata": {
    "colab": {
     "base_uri": "https://localhost:8080/",
     "height": 34
    },
    "colab_type": "code",
    "id": "M9hmlwIzpkCj",
    "outputId": "37a740f1-e01a-4028-9142-c9575e53d880"
   },
   "outputs": [
    {
     "name": "stdout",
     "output_type": "stream",
     "text": [
      "Vocab size 30369\n"
     ]
    }
   ],
   "source": [
    "words = w2v_model.wv.vocab.keys()\n",
    "vocab_size = len(words)\n",
    "print(\"Vocab size\", vocab_size)"
   ]
  },
  {
   "cell_type": "code",
   "execution_count": 37,
   "metadata": {
    "colab": {
     "base_uri": "https://localhost:8080/",
     "height": 17428
    },
    "colab_type": "code",
    "id": "4rBt62CXpkCl",
    "outputId": "f9dc1ae5-4134-4383-ba3f-fe50911dc00e"
   },
   "outputs": [
    {
     "name": "stderr",
     "output_type": "stream",
     "text": [
      "2019-08-12 11:19:34,407 : INFO : training model with 8 workers on 30369 vocabulary and 300 features, using sg=0 hs=0 sample=0.001 negative=5 window=7\n",
      "2019-08-12 11:19:35,543 : INFO : EPOCH 1 - PROGRESS: at 4.34% examples, 340038 words/s, in_qsize 15, out_qsize 0\n",
      "2019-08-12 11:19:36,618 : INFO : EPOCH 1 - PROGRESS: at 8.58% examples, 332041 words/s, in_qsize 16, out_qsize 2\n",
      "2019-08-12 11:19:37,651 : INFO : EPOCH 1 - PROGRESS: at 13.90% examples, 360876 words/s, in_qsize 15, out_qsize 0\n",
      "2019-08-12 11:19:38,680 : INFO : EPOCH 1 - PROGRESS: at 18.76% examples, 368173 words/s, in_qsize 15, out_qsize 0\n",
      "2019-08-12 11:19:39,689 : INFO : EPOCH 1 - PROGRESS: at 23.52% examples, 372285 words/s, in_qsize 15, out_qsize 0\n",
      "2019-08-12 11:19:40,742 : INFO : EPOCH 1 - PROGRESS: at 28.07% examples, 369376 words/s, in_qsize 16, out_qsize 0\n",
      "2019-08-12 11:19:41,804 : INFO : EPOCH 1 - PROGRESS: at 33.05% examples, 371781 words/s, in_qsize 14, out_qsize 1\n",
      "2019-08-12 11:19:42,875 : INFO : EPOCH 1 - PROGRESS: at 38.25% examples, 374857 words/s, in_qsize 16, out_qsize 1\n",
      "2019-08-12 11:19:43,909 : INFO : EPOCH 1 - PROGRESS: at 43.54% examples, 380502 words/s, in_qsize 15, out_qsize 0\n",
      "2019-08-12 11:19:44,913 : INFO : EPOCH 1 - PROGRESS: at 47.75% examples, 377168 words/s, in_qsize 15, out_qsize 0\n",
      "2019-08-12 11:19:45,935 : INFO : EPOCH 1 - PROGRESS: at 52.40% examples, 376969 words/s, in_qsize 15, out_qsize 0\n",
      "2019-08-12 11:19:46,975 : INFO : EPOCH 1 - PROGRESS: at 56.95% examples, 375291 words/s, in_qsize 15, out_qsize 0\n",
      "2019-08-12 11:19:47,994 : INFO : EPOCH 1 - PROGRESS: at 61.50% examples, 374900 words/s, in_qsize 16, out_qsize 1\n",
      "2019-08-12 11:19:49,007 : INFO : EPOCH 1 - PROGRESS: at 66.14% examples, 374979 words/s, in_qsize 13, out_qsize 2\n",
      "2019-08-12 11:19:50,024 : INFO : EPOCH 1 - PROGRESS: at 70.81% examples, 375233 words/s, in_qsize 16, out_qsize 0\n",
      "2019-08-12 11:19:51,033 : INFO : EPOCH 1 - PROGRESS: at 75.67% examples, 376461 words/s, in_qsize 16, out_qsize 0\n",
      "2019-08-12 11:19:52,045 : INFO : EPOCH 1 - PROGRESS: at 80.25% examples, 376096 words/s, in_qsize 12, out_qsize 3\n",
      "2019-08-12 11:19:53,112 : INFO : EPOCH 1 - PROGRESS: at 85.23% examples, 376513 words/s, in_qsize 16, out_qsize 0\n",
      "2019-08-12 11:19:54,113 : INFO : EPOCH 1 - PROGRESS: at 90.54% examples, 379490 words/s, in_qsize 16, out_qsize 1\n",
      "2019-08-12 11:19:55,168 : INFO : EPOCH 1 - PROGRESS: at 95.34% examples, 379162 words/s, in_qsize 14, out_qsize 1\n",
      "2019-08-12 11:19:55,888 : INFO : worker thread finished; awaiting finish of 7 more threads\n",
      "2019-08-12 11:19:55,899 : INFO : worker thread finished; awaiting finish of 6 more threads\n",
      "2019-08-12 11:19:55,932 : INFO : worker thread finished; awaiting finish of 5 more threads\n",
      "2019-08-12 11:19:55,938 : INFO : worker thread finished; awaiting finish of 4 more threads\n",
      "2019-08-12 11:19:55,939 : INFO : worker thread finished; awaiting finish of 3 more threads\n",
      "2019-08-12 11:19:55,948 : INFO : worker thread finished; awaiting finish of 2 more threads\n",
      "2019-08-12 11:19:55,948 : INFO : worker thread finished; awaiting finish of 1 more threads\n",
      "2019-08-12 11:19:55,956 : INFO : worker thread finished; awaiting finish of 0 more threads\n",
      "2019-08-12 11:19:55,962 : INFO : EPOCH - 1 : training on 9227204 raw words (8221853 effective words) took 21.5s, 383052 effective words/s\n",
      "2019-08-12 11:19:57,020 : INFO : EPOCH 2 - PROGRESS: at 4.45% examples, 349932 words/s, in_qsize 16, out_qsize 0\n",
      "2019-08-12 11:19:58,040 : INFO : EPOCH 2 - PROGRESS: at 9.77% examples, 387737 words/s, in_qsize 15, out_qsize 0\n",
      "2019-08-12 11:19:59,064 : INFO : EPOCH 2 - PROGRESS: at 15.08% examples, 401520 words/s, in_qsize 16, out_qsize 0\n",
      "2019-08-12 11:20:00,087 : INFO : EPOCH 2 - PROGRESS: at 19.62% examples, 392731 words/s, in_qsize 15, out_qsize 0\n",
      "2019-08-12 11:20:01,086 : INFO : EPOCH 2 - PROGRESS: at 24.29% examples, 390043 words/s, in_qsize 16, out_qsize 0\n",
      "2019-08-12 11:20:02,110 : INFO : EPOCH 2 - PROGRESS: at 29.37% examples, 393280 words/s, in_qsize 14, out_qsize 1\n",
      "2019-08-12 11:20:03,123 : INFO : EPOCH 2 - PROGRESS: at 34.57% examples, 397241 words/s, in_qsize 14, out_qsize 1\n",
      "2019-08-12 11:20:04,135 : INFO : EPOCH 2 - PROGRESS: at 39.86% examples, 401707 words/s, in_qsize 16, out_qsize 0\n",
      "2019-08-12 11:20:05,140 : INFO : EPOCH 2 - PROGRESS: at 44.62% examples, 400329 words/s, in_qsize 15, out_qsize 0\n",
      "2019-08-12 11:20:06,219 : INFO : EPOCH 2 - PROGRESS: at 49.92% examples, 401254 words/s, in_qsize 15, out_qsize 0\n",
      "2019-08-12 11:20:07,338 : INFO : EPOCH 2 - PROGRESS: at 55.53% examples, 402052 words/s, in_qsize 15, out_qsize 0\n",
      "2019-08-12 11:20:08,365 : INFO : EPOCH 2 - PROGRESS: at 60.96% examples, 404715 words/s, in_qsize 16, out_qsize 0\n",
      "2019-08-12 11:20:09,378 : INFO : EPOCH 2 - PROGRESS: at 66.04% examples, 405645 words/s, in_qsize 14, out_qsize 1\n",
      "2019-08-12 11:20:10,436 : INFO : EPOCH 2 - PROGRESS: at 70.91% examples, 403622 words/s, in_qsize 16, out_qsize 0\n",
      "2019-08-12 11:20:11,500 : INFO : EPOCH 2 - PROGRESS: at 76.00% examples, 402656 words/s, in_qsize 16, out_qsize 0\n",
      "2019-08-12 11:20:12,528 : INFO : EPOCH 2 - PROGRESS: at 81.45% examples, 404843 words/s, in_qsize 15, out_qsize 0\n",
      "2019-08-12 11:20:13,545 : INFO : EPOCH 2 - PROGRESS: at 86.10% examples, 403159 words/s, in_qsize 16, out_qsize 0\n",
      "2019-08-12 11:20:14,566 : INFO : EPOCH 2 - PROGRESS: at 91.53% examples, 405010 words/s, in_qsize 15, out_qsize 0\n",
      "2019-08-12 11:20:15,569 : INFO : EPOCH 2 - PROGRESS: at 96.53% examples, 404938 words/s, in_qsize 16, out_qsize 0\n",
      "2019-08-12 11:20:16,064 : INFO : worker thread finished; awaiting finish of 7 more threads\n",
      "2019-08-12 11:20:16,080 : INFO : worker thread finished; awaiting finish of 6 more threads\n",
      "2019-08-12 11:20:16,091 : INFO : worker thread finished; awaiting finish of 5 more threads\n",
      "2019-08-12 11:20:16,094 : INFO : worker thread finished; awaiting finish of 4 more threads\n",
      "2019-08-12 11:20:16,122 : INFO : worker thread finished; awaiting finish of 3 more threads\n",
      "2019-08-12 11:20:16,124 : INFO : worker thread finished; awaiting finish of 2 more threads\n",
      "2019-08-12 11:20:16,127 : INFO : worker thread finished; awaiting finish of 1 more threads\n",
      "2019-08-12 11:20:16,134 : INFO : worker thread finished; awaiting finish of 0 more threads\n",
      "2019-08-12 11:20:16,136 : INFO : EPOCH - 2 : training on 9227204 raw words (8222145 effective words) took 20.2s, 407984 effective words/s\n",
      "2019-08-12 11:20:17,174 : INFO : EPOCH 3 - PROGRESS: at 4.56% examples, 362645 words/s, in_qsize 15, out_qsize 0\n",
      "2019-08-12 11:20:18,176 : INFO : EPOCH 3 - PROGRESS: at 9.77% examples, 394138 words/s, in_qsize 16, out_qsize 0\n",
      "2019-08-12 11:20:19,288 : INFO : EPOCH 3 - PROGRESS: at 14.75% examples, 385416 words/s, in_qsize 15, out_qsize 0\n",
      "2019-08-12 11:20:20,318 : INFO : EPOCH 3 - PROGRESS: at 19.73% examples, 388520 words/s, in_qsize 15, out_qsize 0\n",
      "2019-08-12 11:20:21,342 : INFO : EPOCH 3 - PROGRESS: at 24.50% examples, 387418 words/s, in_qsize 15, out_qsize 0\n",
      "2019-08-12 11:20:22,440 : INFO : EPOCH 3 - PROGRESS: at 29.05% examples, 379871 words/s, in_qsize 16, out_qsize 0\n",
      "2019-08-12 11:20:23,465 : INFO : EPOCH 3 - PROGRESS: at 33.59% examples, 377785 words/s, in_qsize 13, out_qsize 2\n",
      "2019-08-12 11:20:24,468 : INFO : EPOCH 3 - PROGRESS: at 37.92% examples, 374999 words/s, in_qsize 14, out_qsize 1\n",
      "2019-08-12 11:20:25,461 : INFO : EPOCH 3 - PROGRESS: at 42.78% examples, 377542 words/s, in_qsize 15, out_qsize 0\n",
      "2019-08-12 11:20:26,492 : INFO : EPOCH 3 - PROGRESS: at 47.54% examples, 378007 words/s, in_qsize 15, out_qsize 0\n",
      "2019-08-12 11:20:27,500 : INFO : EPOCH 3 - PROGRESS: at 52.51% examples, 380408 words/s, in_qsize 15, out_qsize 0\n",
      "2019-08-12 11:20:28,574 : INFO : EPOCH 3 - PROGRESS: at 56.73% examples, 375528 words/s, in_qsize 15, out_qsize 0\n",
      "2019-08-12 11:20:29,593 : INFO : EPOCH 3 - PROGRESS: at 61.71% examples, 377604 words/s, in_qsize 14, out_qsize 1\n",
      "2019-08-12 11:20:30,603 : INFO : EPOCH 3 - PROGRESS: at 66.25% examples, 377204 words/s, in_qsize 15, out_qsize 0\n",
      "2019-08-12 11:20:31,612 : INFO : EPOCH 3 - PROGRESS: at 70.37% examples, 374403 words/s, in_qsize 15, out_qsize 0\n",
      "2019-08-12 11:20:32,660 : INFO : EPOCH 3 - PROGRESS: at 75.13% examples, 374435 words/s, in_qsize 16, out_qsize 0\n",
      "2019-08-12 11:20:33,664 : INFO : EPOCH 3 - PROGRESS: at 80.14% examples, 376434 words/s, in_qsize 15, out_qsize 0\n"
     ]
    },
    {
     "name": "stderr",
     "output_type": "stream",
     "text": [
      "2019-08-12 11:20:34,667 : INFO : EPOCH 3 - PROGRESS: at 84.47% examples, 375103 words/s, in_qsize 13, out_qsize 2\n",
      "2019-08-12 11:20:35,689 : INFO : EPOCH 3 - PROGRESS: at 89.34% examples, 376185 words/s, in_qsize 16, out_qsize 1\n",
      "2019-08-12 11:20:36,707 : INFO : EPOCH 3 - PROGRESS: at 94.36% examples, 377493 words/s, in_qsize 15, out_qsize 0\n",
      "2019-08-12 11:20:37,714 : INFO : EPOCH 3 - PROGRESS: at 98.69% examples, 376157 words/s, in_qsize 13, out_qsize 0\n",
      "2019-08-12 11:20:37,785 : INFO : worker thread finished; awaiting finish of 7 more threads\n",
      "2019-08-12 11:20:37,793 : INFO : worker thread finished; awaiting finish of 6 more threads\n",
      "2019-08-12 11:20:37,804 : INFO : worker thread finished; awaiting finish of 5 more threads\n",
      "2019-08-12 11:20:37,812 : INFO : worker thread finished; awaiting finish of 4 more threads\n",
      "2019-08-12 11:20:37,834 : INFO : worker thread finished; awaiting finish of 3 more threads\n",
      "2019-08-12 11:20:37,842 : INFO : worker thread finished; awaiting finish of 2 more threads\n",
      "2019-08-12 11:20:37,861 : INFO : worker thread finished; awaiting finish of 1 more threads\n",
      "2019-08-12 11:20:37,878 : INFO : worker thread finished; awaiting finish of 0 more threads\n",
      "2019-08-12 11:20:37,878 : INFO : EPOCH - 3 : training on 9227204 raw words (8221938 effective words) took 21.7s, 378500 effective words/s\n",
      "2019-08-12 11:20:38,941 : INFO : EPOCH 4 - PROGRESS: at 4.23% examples, 332971 words/s, in_qsize 15, out_qsize 0\n",
      "2019-08-12 11:20:40,000 : INFO : EPOCH 4 - PROGRESS: at 8.80% examples, 342002 words/s, in_qsize 16, out_qsize 0\n",
      "2019-08-12 11:20:41,063 : INFO : EPOCH 4 - PROGRESS: at 13.79% examples, 356015 words/s, in_qsize 15, out_qsize 0\n",
      "2019-08-12 11:20:42,084 : INFO : EPOCH 4 - PROGRESS: at 18.43% examples, 361541 words/s, in_qsize 15, out_qsize 0\n",
      "2019-08-12 11:20:43,093 : INFO : EPOCH 4 - PROGRESS: at 23.74% examples, 375006 words/s, in_qsize 15, out_qsize 0\n",
      "2019-08-12 11:20:44,101 : INFO : EPOCH 4 - PROGRESS: at 28.72% examples, 380574 words/s, in_qsize 14, out_qsize 1\n",
      "2019-08-12 11:20:45,136 : INFO : EPOCH 4 - PROGRESS: at 33.48% examples, 380155 words/s, in_qsize 11, out_qsize 4\n",
      "2019-08-12 11:20:46,169 : INFO : EPOCH 4 - PROGRESS: at 38.78% examples, 385586 words/s, in_qsize 15, out_qsize 0\n",
      "2019-08-12 11:20:47,226 : INFO : EPOCH 4 - PROGRESS: at 43.86% examples, 386265 words/s, in_qsize 14, out_qsize 1\n",
      "2019-08-12 11:20:48,284 : INFO : EPOCH 4 - PROGRESS: at 48.95% examples, 387615 words/s, in_qsize 15, out_qsize 0\n",
      "2019-08-12 11:20:49,349 : INFO : EPOCH 4 - PROGRESS: at 54.46% examples, 390934 words/s, in_qsize 15, out_qsize 0\n",
      "2019-08-12 11:20:50,379 : INFO : EPOCH 4 - PROGRESS: at 59.87% examples, 394522 words/s, in_qsize 15, out_qsize 0\n",
      "2019-08-12 11:20:51,377 : INFO : EPOCH 4 - PROGRESS: at 64.30% examples, 392315 words/s, in_qsize 16, out_qsize 0\n",
      "2019-08-12 11:20:52,435 : INFO : EPOCH 4 - PROGRESS: at 69.50% examples, 393323 words/s, in_qsize 15, out_qsize 0\n",
      "2019-08-12 11:20:53,456 : INFO : EPOCH 4 - PROGRESS: at 74.81% examples, 395556 words/s, in_qsize 16, out_qsize 0\n",
      "2019-08-12 11:20:54,476 : INFO : EPOCH 4 - PROGRESS: at 80.04% examples, 397122 words/s, in_qsize 16, out_qsize 0\n",
      "2019-08-12 11:20:55,463 : INFO : EPOCH 4 - PROGRESS: at 86.53% examples, 404909 words/s, in_qsize 15, out_qsize 3\n",
      "2019-08-12 11:20:56,474 : INFO : EPOCH 4 - PROGRESS: at 93.48% examples, 413623 words/s, in_qsize 15, out_qsize 2\n",
      "2019-08-12 11:20:57,442 : INFO : worker thread finished; awaiting finish of 7 more threads\n",
      "2019-08-12 11:20:57,442 : INFO : worker thread finished; awaiting finish of 6 more threads\n",
      "2019-08-12 11:20:57,458 : INFO : worker thread finished; awaiting finish of 5 more threads\n",
      "2019-08-12 11:20:57,473 : INFO : worker thread finished; awaiting finish of 4 more threads\n",
      "2019-08-12 11:20:57,476 : INFO : worker thread finished; awaiting finish of 3 more threads\n",
      "2019-08-12 11:20:57,478 : INFO : worker thread finished; awaiting finish of 2 more threads\n",
      "2019-08-12 11:20:57,505 : INFO : EPOCH 4 - PROGRESS: at 99.89% examples, 418926 words/s, in_qsize 1, out_qsize 1\n",
      "2019-08-12 11:20:57,509 : INFO : worker thread finished; awaiting finish of 1 more threads\n",
      "2019-08-12 11:20:57,519 : INFO : worker thread finished; awaiting finish of 0 more threads\n",
      "2019-08-12 11:20:57,523 : INFO : EPOCH - 4 : training on 9227204 raw words (8223070 effective words) took 19.6s, 419013 effective words/s\n",
      "2019-08-12 11:20:58,556 : INFO : EPOCH 5 - PROGRESS: at 7.49% examples, 612627 words/s, in_qsize 15, out_qsize 0\n",
      "2019-08-12 11:20:59,562 : INFO : EPOCH 5 - PROGRESS: at 14.86% examples, 606372 words/s, in_qsize 15, out_qsize 0\n",
      "2019-08-12 11:21:00,637 : INFO : EPOCH 5 - PROGRESS: at 23.09% examples, 614342 words/s, in_qsize 15, out_qsize 0\n",
      "2019-08-12 11:21:01,651 : INFO : EPOCH 5 - PROGRESS: at 31.43% examples, 629851 words/s, in_qsize 15, out_qsize 0\n",
      "2019-08-12 11:21:02,674 : INFO : EPOCH 5 - PROGRESS: at 39.11% examples, 628158 words/s, in_qsize 12, out_qsize 3\n",
      "2019-08-12 11:21:03,674 : INFO : EPOCH 5 - PROGRESS: at 47.32% examples, 636071 words/s, in_qsize 12, out_qsize 3\n",
      "2019-08-12 11:21:04,694 : INFO : EPOCH 5 - PROGRESS: at 55.32% examples, 637612 words/s, in_qsize 15, out_qsize 0\n",
      "2019-08-12 11:21:05,692 : INFO : EPOCH 5 - PROGRESS: at 63.22% examples, 638535 words/s, in_qsize 13, out_qsize 2\n",
      "2019-08-12 11:21:06,710 : INFO : EPOCH 5 - PROGRESS: at 70.26% examples, 631523 words/s, in_qsize 16, out_qsize 0\n",
      "2019-08-12 11:21:07,723 : INFO : EPOCH 5 - PROGRESS: at 77.42% examples, 626176 words/s, in_qsize 12, out_qsize 3\n",
      "2019-08-12 11:21:08,731 : INFO : EPOCH 5 - PROGRESS: at 84.26% examples, 619564 words/s, in_qsize 14, out_qsize 1\n",
      "2019-08-12 11:21:09,758 : INFO : EPOCH 5 - PROGRESS: at 91.31% examples, 615191 words/s, in_qsize 16, out_qsize 0\n",
      "2019-08-12 11:21:10,765 : INFO : EPOCH 5 - PROGRESS: at 98.68% examples, 614228 words/s, in_qsize 12, out_qsize 1\n",
      "2019-08-12 11:21:10,891 : INFO : worker thread finished; awaiting finish of 7 more threads\n",
      "2019-08-12 11:21:10,899 : INFO : worker thread finished; awaiting finish of 6 more threads\n",
      "2019-08-12 11:21:10,900 : INFO : worker thread finished; awaiting finish of 5 more threads\n",
      "2019-08-12 11:21:10,904 : INFO : worker thread finished; awaiting finish of 4 more threads\n",
      "2019-08-12 11:21:10,906 : INFO : worker thread finished; awaiting finish of 3 more threads\n",
      "2019-08-12 11:21:10,907 : INFO : worker thread finished; awaiting finish of 2 more threads\n",
      "2019-08-12 11:21:10,929 : INFO : worker thread finished; awaiting finish of 1 more threads\n",
      "2019-08-12 11:21:10,950 : INFO : worker thread finished; awaiting finish of 0 more threads\n",
      "2019-08-12 11:21:10,952 : INFO : EPOCH - 5 : training on 9227204 raw words (8221775 effective words) took 13.4s, 613882 effective words/s\n",
      "2019-08-12 11:21:11,970 : INFO : EPOCH 6 - PROGRESS: at 6.84% examples, 559946 words/s, in_qsize 12, out_qsize 3\n",
      "2019-08-12 11:21:12,989 : INFO : EPOCH 6 - PROGRESS: at 13.90% examples, 561314 words/s, in_qsize 14, out_qsize 1\n",
      "2019-08-12 11:21:14,054 : INFO : EPOCH 6 - PROGRESS: at 21.14% examples, 561676 words/s, in_qsize 15, out_qsize 0\n",
      "2019-08-12 11:21:15,062 : INFO : EPOCH 6 - PROGRESS: at 27.75% examples, 555651 words/s, in_qsize 11, out_qsize 4\n",
      "2019-08-12 11:21:16,087 : INFO : EPOCH 6 - PROGRESS: at 35.10% examples, 563403 words/s, in_qsize 15, out_qsize 0\n",
      "2019-08-12 11:21:17,135 : INFO : EPOCH 6 - PROGRESS: at 42.68% examples, 568459 words/s, in_qsize 15, out_qsize 0\n",
      "2019-08-12 11:21:18,190 : INFO : EPOCH 6 - PROGRESS: at 50.35% examples, 573171 words/s, in_qsize 16, out_qsize 0\n",
      "2019-08-12 11:21:19,207 : INFO : EPOCH 6 - PROGRESS: at 58.14% examples, 580913 words/s, in_qsize 15, out_qsize 0\n",
      "2019-08-12 11:21:20,209 : INFO : EPOCH 6 - PROGRESS: at 65.93% examples, 587101 words/s, in_qsize 14, out_qsize 1\n",
      "2019-08-12 11:21:21,239 : INFO : EPOCH 6 - PROGRESS: at 74.05% examples, 592921 words/s, in_qsize 15, out_qsize 0\n",
      "2019-08-12 11:21:22,256 : INFO : EPOCH 6 - PROGRESS: at 81.99% examples, 597379 words/s, in_qsize 15, out_qsize 0\n",
      "2019-08-12 11:21:23,341 : INFO : EPOCH 6 - PROGRESS: at 89.56% examples, 595253 words/s, in_qsize 15, out_qsize 0\n",
      "2019-08-12 11:21:24,356 : INFO : EPOCH 6 - PROGRESS: at 97.61% examples, 599231 words/s, in_qsize 14, out_qsize 1\n",
      "2019-08-12 11:21:24,554 : INFO : worker thread finished; awaiting finish of 7 more threads\n",
      "2019-08-12 11:21:24,570 : INFO : worker thread finished; awaiting finish of 6 more threads\n",
      "2019-08-12 11:21:24,585 : INFO : worker thread finished; awaiting finish of 5 more threads\n",
      "2019-08-12 11:21:24,585 : INFO : worker thread finished; awaiting finish of 4 more threads\n",
      "2019-08-12 11:21:24,591 : INFO : worker thread finished; awaiting finish of 3 more threads\n",
      "2019-08-12 11:21:24,592 : INFO : worker thread finished; awaiting finish of 2 more threads\n",
      "2019-08-12 11:21:24,620 : INFO : worker thread finished; awaiting finish of 1 more threads\n",
      "2019-08-12 11:21:24,631 : INFO : worker thread finished; awaiting finish of 0 more threads\n",
      "2019-08-12 11:21:24,632 : INFO : EPOCH - 6 : training on 9227204 raw words (8222271 effective words) took 13.7s, 601911 effective words/s\n",
      "2019-08-12 11:21:25,654 : INFO : EPOCH 7 - PROGRESS: at 7.71% examples, 625148 words/s, in_qsize 15, out_qsize 0\n",
      "2019-08-12 11:21:26,673 : INFO : EPOCH 7 - PROGRESS: at 15.29% examples, 618694 words/s, in_qsize 16, out_qsize 0\n",
      "2019-08-12 11:21:27,692 : INFO : EPOCH 7 - PROGRESS: at 23.52% examples, 635959 words/s, in_qsize 15, out_qsize 0\n",
      "2019-08-12 11:21:28,691 : INFO : EPOCH 7 - PROGRESS: at 31.64% examples, 643965 words/s, in_qsize 15, out_qsize 0\n",
      "2019-08-12 11:21:29,690 : INFO : EPOCH 7 - PROGRESS: at 39.54% examples, 644892 words/s, in_qsize 15, out_qsize 0\n",
      "2019-08-12 11:21:30,749 : INFO : EPOCH 7 - PROGRESS: at 47.43% examples, 640071 words/s, in_qsize 15, out_qsize 0\n",
      "2019-08-12 11:21:31,788 : INFO : EPOCH 7 - PROGRESS: at 55.10% examples, 635317 words/s, in_qsize 16, out_qsize 0\n",
      "2019-08-12 11:21:32,844 : INFO : EPOCH 7 - PROGRESS: at 63.43% examples, 636767 words/s, in_qsize 15, out_qsize 0\n",
      "2019-08-12 11:21:33,856 : INFO : EPOCH 7 - PROGRESS: at 71.56% examples, 639277 words/s, in_qsize 15, out_qsize 0\n",
      "2019-08-12 11:21:34,890 : INFO : EPOCH 7 - PROGRESS: at 80.03% examples, 642421 words/s, in_qsize 15, out_qsize 0\n",
      "2019-08-12 11:21:35,907 : INFO : EPOCH 7 - PROGRESS: at 88.05% examples, 643554 words/s, in_qsize 15, out_qsize 0\n",
      "2019-08-12 11:21:36,908 : INFO : EPOCH 7 - PROGRESS: at 95.88% examples, 643032 words/s, in_qsize 14, out_qsize 1\n",
      "2019-08-12 11:21:37,308 : INFO : worker thread finished; awaiting finish of 7 more threads\n",
      "2019-08-12 11:21:37,308 : INFO : worker thread finished; awaiting finish of 6 more threads\n",
      "2019-08-12 11:21:37,308 : INFO : worker thread finished; awaiting finish of 5 more threads\n",
      "2019-08-12 11:21:37,323 : INFO : worker thread finished; awaiting finish of 4 more threads\n",
      "2019-08-12 11:21:37,323 : INFO : worker thread finished; awaiting finish of 3 more threads\n",
      "2019-08-12 11:21:37,336 : INFO : worker thread finished; awaiting finish of 2 more threads\n",
      "2019-08-12 11:21:37,357 : INFO : worker thread finished; awaiting finish of 1 more threads\n",
      "2019-08-12 11:21:37,365 : INFO : worker thread finished; awaiting finish of 0 more threads\n",
      "2019-08-12 11:21:37,369 : INFO : EPOCH - 7 : training on 9227204 raw words (8222207 effective words) took 12.7s, 646643 effective words/s\n",
      "2019-08-12 11:21:38,420 : INFO : EPOCH 8 - PROGRESS: at 7.82% examples, 619596 words/s, in_qsize 16, out_qsize 0\n",
      "2019-08-12 11:21:39,427 : INFO : EPOCH 8 - PROGRESS: at 15.95% examples, 641521 words/s, in_qsize 15, out_qsize 0\n",
      "2019-08-12 11:21:40,441 : INFO : EPOCH 8 - PROGRESS: at 24.17% examples, 650092 words/s, in_qsize 12, out_qsize 3\n",
      "2019-08-12 11:21:41,459 : INFO : EPOCH 8 - PROGRESS: at 32.73% examples, 660975 words/s, in_qsize 13, out_qsize 2\n",
      "2019-08-12 11:21:42,489 : INFO : EPOCH 8 - PROGRESS: at 41.05% examples, 662424 words/s, in_qsize 15, out_qsize 0\n",
      "2019-08-12 11:21:43,517 : INFO : EPOCH 8 - PROGRESS: at 49.05% examples, 658304 words/s, in_qsize 14, out_qsize 2\n",
      "2019-08-12 11:21:44,546 : INFO : EPOCH 8 - PROGRESS: at 57.49% examples, 660974 words/s, in_qsize 15, out_qsize 0\n",
      "2019-08-12 11:21:45,566 : INFO : EPOCH 8 - PROGRESS: at 65.82% examples, 662389 words/s, in_qsize 16, out_qsize 0\n",
      "2019-08-12 11:21:46,573 : INFO : EPOCH 8 - PROGRESS: at 74.59% examples, 668616 words/s, in_qsize 14, out_qsize 1\n",
      "2019-08-12 11:21:47,592 : INFO : EPOCH 8 - PROGRESS: at 82.96% examples, 668545 words/s, in_qsize 15, out_qsize 0\n",
      "2019-08-12 11:21:48,653 : INFO : EPOCH 8 - PROGRESS: at 91.52% examples, 668260 words/s, in_qsize 16, out_qsize 0\n",
      "2019-08-12 11:21:49,532 : INFO : worker thread finished; awaiting finish of 7 more threads\n",
      "2019-08-12 11:21:49,564 : INFO : worker thread finished; awaiting finish of 6 more threads\n",
      "2019-08-12 11:21:49,564 : INFO : worker thread finished; awaiting finish of 5 more threads\n",
      "2019-08-12 11:21:49,564 : INFO : worker thread finished; awaiting finish of 4 more threads\n",
      "2019-08-12 11:21:49,564 : INFO : worker thread finished; awaiting finish of 3 more threads\n",
      "2019-08-12 11:21:49,592 : INFO : worker thread finished; awaiting finish of 2 more threads\n",
      "2019-08-12 11:21:49,611 : INFO : worker thread finished; awaiting finish of 1 more threads\n",
      "2019-08-12 11:21:49,621 : INFO : worker thread finished; awaiting finish of 0 more threads\n",
      "2019-08-12 11:21:49,622 : INFO : EPOCH - 8 : training on 9227204 raw words (8222751 effective words) took 12.2s, 672618 effective words/s\n",
      "2019-08-12 11:21:50,666 : INFO : EPOCH 9 - PROGRESS: at 7.82% examples, 618364 words/s, in_qsize 15, out_qsize 0\n",
      "2019-08-12 11:21:51,675 : INFO : EPOCH 9 - PROGRESS: at 16.48% examples, 663310 words/s, in_qsize 16, out_qsize 2\n",
      "2019-08-12 11:21:52,678 : INFO : EPOCH 9 - PROGRESS: at 24.72% examples, 664880 words/s, in_qsize 14, out_qsize 1\n",
      "2019-08-12 11:21:53,688 : INFO : EPOCH 9 - PROGRESS: at 32.95% examples, 666479 words/s, in_qsize 12, out_qsize 3\n",
      "2019-08-12 11:21:54,720 : INFO : EPOCH 9 - PROGRESS: at 41.26% examples, 665832 words/s, in_qsize 15, out_qsize 0\n",
      "2019-08-12 11:21:55,742 : INFO : EPOCH 9 - PROGRESS: at 50.13% examples, 673990 words/s, in_qsize 13, out_qsize 2\n",
      "2019-08-12 11:21:56,755 : INFO : EPOCH 9 - PROGRESS: at 58.36% examples, 673694 words/s, in_qsize 13, out_qsize 2\n",
      "2019-08-12 11:21:57,773 : INFO : EPOCH 9 - PROGRESS: at 66.58% examples, 672848 words/s, in_qsize 16, out_qsize 0\n",
      "2019-08-12 11:21:58,772 : INFO : EPOCH 9 - PROGRESS: at 74.92% examples, 674043 words/s, in_qsize 13, out_qsize 2\n",
      "2019-08-12 11:21:59,791 : INFO : EPOCH 9 - PROGRESS: at 83.73% examples, 677270 words/s, in_qsize 15, out_qsize 0\n",
      "2019-08-12 11:22:00,810 : INFO : EPOCH 9 - PROGRESS: at 92.17% examples, 678483 words/s, in_qsize 14, out_qsize 1\n",
      "2019-08-12 11:22:01,666 : INFO : worker thread finished; awaiting finish of 7 more threads\n",
      "2019-08-12 11:22:01,682 : INFO : worker thread finished; awaiting finish of 6 more threads\n",
      "2019-08-12 11:22:01,682 : INFO : worker thread finished; awaiting finish of 5 more threads\n",
      "2019-08-12 11:22:01,706 : INFO : worker thread finished; awaiting finish of 4 more threads\n",
      "2019-08-12 11:22:01,720 : INFO : worker thread finished; awaiting finish of 3 more threads\n",
      "2019-08-12 11:22:01,731 : INFO : worker thread finished; awaiting finish of 2 more threads\n",
      "2019-08-12 11:22:01,739 : INFO : worker thread finished; awaiting finish of 1 more threads\n",
      "2019-08-12 11:22:01,753 : INFO : worker thread finished; awaiting finish of 0 more threads\n",
      "2019-08-12 11:22:01,754 : INFO : EPOCH - 9 : training on 9227204 raw words (8221908 effective words) took 12.1s, 678573 effective words/s\n",
      "2019-08-12 11:22:02,816 : INFO : EPOCH 10 - PROGRESS: at 7.93% examples, 610406 words/s, in_qsize 15, out_qsize 0\n",
      "2019-08-12 11:22:03,851 : INFO : EPOCH 10 - PROGRESS: at 16.70% examples, 656382 words/s, in_qsize 15, out_qsize 0\n",
      "2019-08-12 11:22:04,887 : INFO : EPOCH 10 - PROGRESS: at 25.15% examples, 661506 words/s, in_qsize 16, out_qsize 0\n",
      "2019-08-12 11:22:05,891 : INFO : EPOCH 10 - PROGRESS: at 33.70% examples, 670849 words/s, in_qsize 14, out_qsize 1\n",
      "2019-08-12 11:22:06,888 : INFO : EPOCH 10 - PROGRESS: at 41.48% examples, 664907 words/s, in_qsize 15, out_qsize 0\n",
      "2019-08-12 11:22:07,906 : INFO : EPOCH 10 - PROGRESS: at 50.46% examples, 675030 words/s, in_qsize 15, out_qsize 0\n",
      "2019-08-12 11:22:08,920 : INFO : EPOCH 10 - PROGRESS: at 58.69% examples, 674815 words/s, in_qsize 16, out_qsize 0\n",
      "2019-08-12 11:22:09,924 : INFO : EPOCH 10 - PROGRESS: at 67.24% examples, 677946 words/s, in_qsize 15, out_qsize 0\n"
     ]
    },
    {
     "name": "stderr",
     "output_type": "stream",
     "text": [
      "2019-08-12 11:22:10,967 : INFO : EPOCH 10 - PROGRESS: at 75.78% examples, 677322 words/s, in_qsize 16, out_qsize 0\n",
      "2019-08-12 11:22:12,006 : INFO : EPOCH 10 - PROGRESS: at 84.05% examples, 675146 words/s, in_qsize 15, out_qsize 0\n",
      "2019-08-12 11:22:13,040 : INFO : EPOCH 10 - PROGRESS: at 90.87% examples, 662925 words/s, in_qsize 15, out_qsize 0\n",
      "2019-08-12 11:22:14,045 : INFO : EPOCH 10 - PROGRESS: at 97.61% examples, 653648 words/s, in_qsize 15, out_qsize 0\n",
      "2019-08-12 11:22:14,212 : INFO : worker thread finished; awaiting finish of 7 more threads\n",
      "2019-08-12 11:22:14,238 : INFO : worker thread finished; awaiting finish of 6 more threads\n",
      "2019-08-12 11:22:14,242 : INFO : worker thread finished; awaiting finish of 5 more threads\n",
      "2019-08-12 11:22:14,244 : INFO : worker thread finished; awaiting finish of 4 more threads\n",
      "2019-08-12 11:22:14,270 : INFO : worker thread finished; awaiting finish of 3 more threads\n",
      "2019-08-12 11:22:14,277 : INFO : worker thread finished; awaiting finish of 2 more threads\n",
      "2019-08-12 11:22:14,288 : INFO : worker thread finished; awaiting finish of 1 more threads\n",
      "2019-08-12 11:22:14,289 : INFO : worker thread finished; awaiting finish of 0 more threads\n",
      "2019-08-12 11:22:14,289 : INFO : EPOCH - 10 : training on 9227204 raw words (8223409 effective words) took 12.5s, 656610 effective words/s\n",
      "2019-08-12 11:22:15,330 : INFO : EPOCH 11 - PROGRESS: at 7.71% examples, 611868 words/s, in_qsize 16, out_qsize 0\n",
      "2019-08-12 11:22:16,361 : INFO : EPOCH 11 - PROGRESS: at 14.22% examples, 566906 words/s, in_qsize 15, out_qsize 0\n",
      "2019-08-12 11:22:17,370 : INFO : EPOCH 11 - PROGRESS: at 21.68% examples, 580909 words/s, in_qsize 15, out_qsize 0\n",
      "2019-08-12 11:22:18,385 : INFO : EPOCH 11 - PROGRESS: at 27.64% examples, 556438 words/s, in_qsize 16, out_qsize 1\n",
      "2019-08-12 11:22:19,414 : INFO : EPOCH 11 - PROGRESS: at 36.40% examples, 584421 words/s, in_qsize 12, out_qsize 3\n",
      "2019-08-12 11:22:20,430 : INFO : EPOCH 11 - PROGRESS: at 44.94% examples, 603229 words/s, in_qsize 15, out_qsize 0\n",
      "2019-08-12 11:22:21,431 : INFO : EPOCH 11 - PROGRESS: at 53.59% examples, 617952 words/s, in_qsize 15, out_qsize 0\n",
      "2019-08-12 11:22:22,459 : INFO : EPOCH 11 - PROGRESS: at 61.06% examples, 616074 words/s, in_qsize 15, out_qsize 0\n",
      "2019-08-12 11:22:23,519 : INFO : EPOCH 11 - PROGRESS: at 69.29% examples, 618674 words/s, in_qsize 13, out_qsize 2\n",
      "2019-08-12 11:22:24,547 : INFO : EPOCH 11 - PROGRESS: at 75.34% examples, 605242 words/s, in_qsize 15, out_qsize 0\n",
      "2019-08-12 11:22:25,549 : INFO : EPOCH 11 - PROGRESS: at 80.57% examples, 589340 words/s, in_qsize 15, out_qsize 3\n",
      "2019-08-12 11:22:26,597 : INFO : EPOCH 11 - PROGRESS: at 86.85% examples, 581148 words/s, in_qsize 15, out_qsize 2\n",
      "2019-08-12 11:22:27,604 : INFO : EPOCH 11 - PROGRESS: at 92.72% examples, 573267 words/s, in_qsize 16, out_qsize 0\n",
      "2019-08-12 11:22:28,650 : INFO : EPOCH 11 - PROGRESS: at 98.36% examples, 563747 words/s, in_qsize 16, out_qsize 0\n",
      "2019-08-12 11:22:28,802 : INFO : worker thread finished; awaiting finish of 7 more threads\n",
      "2019-08-12 11:22:28,808 : INFO : worker thread finished; awaiting finish of 6 more threads\n",
      "2019-08-12 11:22:28,810 : INFO : worker thread finished; awaiting finish of 5 more threads\n",
      "2019-08-12 11:22:28,812 : INFO : worker thread finished; awaiting finish of 4 more threads\n",
      "2019-08-12 11:22:28,814 : INFO : worker thread finished; awaiting finish of 3 more threads\n",
      "2019-08-12 11:22:28,816 : INFO : worker thread finished; awaiting finish of 2 more threads\n",
      "2019-08-12 11:22:28,849 : INFO : worker thread finished; awaiting finish of 1 more threads\n",
      "2019-08-12 11:22:28,854 : INFO : worker thread finished; awaiting finish of 0 more threads\n",
      "2019-08-12 11:22:28,855 : INFO : EPOCH - 11 : training on 9227204 raw words (8222587 effective words) took 14.6s, 565041 effective words/s\n",
      "2019-08-12 11:22:29,891 : INFO : EPOCH 12 - PROGRESS: at 5.75% examples, 462949 words/s, in_qsize 15, out_qsize 1\n",
      "2019-08-12 11:22:30,899 : INFO : EPOCH 12 - PROGRESS: at 11.29% examples, 456897 words/s, in_qsize 14, out_qsize 1\n",
      "2019-08-12 11:22:31,896 : INFO : EPOCH 12 - PROGRESS: at 17.78% examples, 481581 words/s, in_qsize 14, out_qsize 1\n",
      "2019-08-12 11:22:32,935 : INFO : EPOCH 12 - PROGRESS: at 25.59% examples, 515792 words/s, in_qsize 14, out_qsize 1\n",
      "2019-08-12 11:22:33,963 : INFO : EPOCH 12 - PROGRESS: at 32.73% examples, 527893 words/s, in_qsize 15, out_qsize 0\n",
      "2019-08-12 11:22:34,970 : INFO : EPOCH 12 - PROGRESS: at 39.33% examples, 530134 words/s, in_qsize 15, out_qsize 0\n",
      "2019-08-12 11:22:35,981 : INFO : EPOCH 12 - PROGRESS: at 47.00% examples, 543254 words/s, in_qsize 13, out_qsize 2\n",
      "2019-08-12 11:22:37,008 : INFO : EPOCH 12 - PROGRESS: at 54.14% examples, 547450 words/s, in_qsize 15, out_qsize 1\n",
      "2019-08-12 11:22:38,021 : INFO : EPOCH 12 - PROGRESS: at 60.63% examples, 545225 words/s, in_qsize 15, out_qsize 0\n",
      "2019-08-12 11:22:39,025 : INFO : EPOCH 12 - PROGRESS: at 64.95% examples, 526397 words/s, in_qsize 15, out_qsize 0\n",
      "2019-08-12 11:22:40,061 : INFO : EPOCH 12 - PROGRESS: at 69.40% examples, 510357 words/s, in_qsize 15, out_qsize 0\n",
      "2019-08-12 11:22:41,120 : INFO : EPOCH 12 - PROGRESS: at 74.59% examples, 501112 words/s, in_qsize 14, out_qsize 1\n",
      "2019-08-12 11:22:42,130 : INFO : EPOCH 12 - PROGRESS: at 78.73% examples, 488438 words/s, in_qsize 14, out_qsize 1\n",
      "2019-08-12 11:22:43,191 : INFO : EPOCH 12 - PROGRESS: at 84.04% examples, 482741 words/s, in_qsize 14, out_qsize 1\n",
      "2019-08-12 11:22:44,211 : INFO : EPOCH 12 - PROGRESS: at 88.80% examples, 476182 words/s, in_qsize 15, out_qsize 0\n",
      "2019-08-12 11:22:45,252 : INFO : EPOCH 12 - PROGRESS: at 92.94% examples, 466544 words/s, in_qsize 16, out_qsize 0\n",
      "2019-08-12 11:22:46,339 : INFO : EPOCH 12 - PROGRESS: at 97.82% examples, 460453 words/s, in_qsize 15, out_qsize 0\n",
      "2019-08-12 11:22:46,654 : INFO : worker thread finished; awaiting finish of 7 more threads\n",
      "2019-08-12 11:22:46,707 : INFO : worker thread finished; awaiting finish of 6 more threads\n",
      "2019-08-12 11:22:46,711 : INFO : worker thread finished; awaiting finish of 5 more threads\n",
      "2019-08-12 11:22:46,720 : INFO : worker thread finished; awaiting finish of 4 more threads\n",
      "2019-08-12 11:22:46,732 : INFO : worker thread finished; awaiting finish of 3 more threads\n",
      "2019-08-12 11:22:46,754 : INFO : worker thread finished; awaiting finish of 2 more threads\n",
      "2019-08-12 11:22:46,777 : INFO : worker thread finished; awaiting finish of 1 more threads\n",
      "2019-08-12 11:22:46,795 : INFO : worker thread finished; awaiting finish of 0 more threads\n",
      "2019-08-12 11:22:46,798 : INFO : EPOCH - 12 : training on 9227204 raw words (8222008 effective words) took 17.9s, 458672 effective words/s\n",
      "2019-08-12 11:22:47,874 : INFO : EPOCH 13 - PROGRESS: at 3.91% examples, 303961 words/s, in_qsize 16, out_qsize 0\n",
      "2019-08-12 11:22:48,890 : INFO : EPOCH 13 - PROGRESS: at 8.36% examples, 331110 words/s, in_qsize 15, out_qsize 0\n",
      "2019-08-12 11:22:49,891 : INFO : EPOCH 13 - PROGRESS: at 12.93% examples, 345071 words/s, in_qsize 15, out_qsize 0\n",
      "2019-08-12 11:22:50,911 : INFO : EPOCH 13 - PROGRESS: at 18.75% examples, 376523 words/s, in_qsize 15, out_qsize 0\n",
      "2019-08-12 11:22:51,918 : INFO : EPOCH 13 - PROGRESS: at 24.39% examples, 393072 words/s, in_qsize 16, out_qsize 0\n",
      "2019-08-12 11:22:52,919 : INFO : EPOCH 13 - PROGRESS: at 30.35% examples, 408889 words/s, in_qsize 16, out_qsize 4\n",
      "2019-08-12 11:22:53,989 : INFO : EPOCH 13 - PROGRESS: at 36.40% examples, 417484 words/s, in_qsize 15, out_qsize 0\n",
      "2019-08-12 11:22:54,977 : INFO : EPOCH 13 - PROGRESS: at 43.75% examples, 440405 words/s, in_qsize 15, out_qsize 0\n",
      "2019-08-12 11:22:55,992 : INFO : EPOCH 13 - PROGRESS: at 49.16% examples, 440880 words/s, in_qsize 16, out_qsize 0\n",
      "2019-08-12 11:22:57,030 : INFO : EPOCH 13 - PROGRESS: at 55.53% examples, 447571 words/s, in_qsize 14, out_qsize 1\n",
      "2019-08-12 11:22:58,045 : INFO : EPOCH 13 - PROGRESS: at 63.65% examples, 466253 words/s, in_qsize 15, out_qsize 0\n",
      "2019-08-12 11:22:59,067 : INFO : EPOCH 13 - PROGRESS: at 72.64% examples, 488013 words/s, in_qsize 15, out_qsize 0\n",
      "2019-08-12 11:23:00,087 : INFO : EPOCH 13 - PROGRESS: at 77.74% examples, 482097 words/s, in_qsize 16, out_qsize 0\n",
      "2019-08-12 11:23:01,088 : INFO : EPOCH 13 - PROGRESS: at 85.13% examples, 490711 words/s, in_qsize 15, out_qsize 0\n"
     ]
    },
    {
     "name": "stderr",
     "output_type": "stream",
     "text": [
      "2019-08-12 11:23:02,092 : INFO : EPOCH 13 - PROGRESS: at 93.26% examples, 501765 words/s, in_qsize 15, out_qsize 0\n",
      "2019-08-12 11:23:02,901 : INFO : worker thread finished; awaiting finish of 7 more threads\n",
      "2019-08-12 11:23:02,911 : INFO : worker thread finished; awaiting finish of 6 more threads\n",
      "2019-08-12 11:23:02,914 : INFO : worker thread finished; awaiting finish of 5 more threads\n",
      "2019-08-12 11:23:02,920 : INFO : worker thread finished; awaiting finish of 4 more threads\n",
      "2019-08-12 11:23:02,934 : INFO : worker thread finished; awaiting finish of 3 more threads\n",
      "2019-08-12 11:23:02,943 : INFO : worker thread finished; awaiting finish of 2 more threads\n",
      "2019-08-12 11:23:02,944 : INFO : worker thread finished; awaiting finish of 1 more threads\n",
      "2019-08-12 11:23:02,952 : INFO : worker thread finished; awaiting finish of 0 more threads\n",
      "2019-08-12 11:23:02,953 : INFO : EPOCH - 13 : training on 9227204 raw words (8223230 effective words) took 16.1s, 509697 effective words/s\n",
      "2019-08-12 11:23:03,999 : INFO : EPOCH 14 - PROGRESS: at 7.28% examples, 579830 words/s, in_qsize 16, out_qsize 0\n",
      "2019-08-12 11:23:05,043 : INFO : EPOCH 14 - PROGRESS: at 14.43% examples, 571469 words/s, in_qsize 16, out_qsize 1\n",
      "2019-08-12 11:23:06,059 : INFO : EPOCH 14 - PROGRESS: at 21.90% examples, 582524 words/s, in_qsize 15, out_qsize 0\n",
      "2019-08-12 11:23:07,097 : INFO : EPOCH 14 - PROGRESS: at 29.27% examples, 582657 words/s, in_qsize 16, out_qsize 0\n",
      "2019-08-12 11:23:08,097 : INFO : EPOCH 14 - PROGRESS: at 36.72% examples, 588139 words/s, in_qsize 16, out_qsize 0\n",
      "2019-08-12 11:23:09,105 : INFO : EPOCH 14 - PROGRESS: at 44.40% examples, 594973 words/s, in_qsize 15, out_qsize 0\n",
      "2019-08-12 11:23:10,130 : INFO : EPOCH 14 - PROGRESS: at 51.53% examples, 591167 words/s, in_qsize 15, out_qsize 0\n",
      "2019-08-12 11:23:11,168 : INFO : EPOCH 14 - PROGRESS: at 59.23% examples, 594331 words/s, in_qsize 15, out_qsize 0\n",
      "2019-08-12 11:23:12,172 : INFO : EPOCH 14 - PROGRESS: at 66.15% examples, 591316 words/s, in_qsize 15, out_qsize 0\n",
      "2019-08-12 11:23:13,194 : INFO : EPOCH 14 - PROGRESS: at 74.37% examples, 598476 words/s, in_qsize 15, out_qsize 0\n",
      "2019-08-12 11:23:14,213 : INFO : EPOCH 14 - PROGRESS: at 83.18% examples, 608221 words/s, in_qsize 15, out_qsize 0\n",
      "2019-08-12 11:23:15,223 : INFO : EPOCH 14 - PROGRESS: at 91.42% examples, 613265 words/s, in_qsize 15, out_qsize 0\n",
      "2019-08-12 11:23:16,082 : INFO : worker thread finished; awaiting finish of 7 more threads\n",
      "2019-08-12 11:23:16,114 : INFO : worker thread finished; awaiting finish of 6 more threads\n",
      "2019-08-12 11:23:16,114 : INFO : worker thread finished; awaiting finish of 5 more threads\n",
      "2019-08-12 11:23:16,131 : INFO : worker thread finished; awaiting finish of 4 more threads\n",
      "2019-08-12 11:23:16,137 : INFO : worker thread finished; awaiting finish of 3 more threads\n",
      "2019-08-12 11:23:16,153 : INFO : worker thread finished; awaiting finish of 2 more threads\n",
      "2019-08-12 11:23:16,153 : INFO : worker thread finished; awaiting finish of 1 more threads\n",
      "2019-08-12 11:23:16,168 : INFO : worker thread finished; awaiting finish of 0 more threads\n",
      "2019-08-12 11:23:16,168 : INFO : EPOCH - 14 : training on 9227204 raw words (8222551 effective words) took 13.2s, 622981 effective words/s\n",
      "2019-08-12 11:23:17,199 : INFO : EPOCH 15 - PROGRESS: at 8.04% examples, 645119 words/s, in_qsize 12, out_qsize 3\n",
      "2019-08-12 11:23:18,255 : INFO : EPOCH 15 - PROGRESS: at 16.81% examples, 663551 words/s, in_qsize 16, out_qsize 0\n",
      "2019-08-12 11:23:19,317 : INFO : EPOCH 15 - PROGRESS: at 25.70% examples, 672037 words/s, in_qsize 15, out_qsize 0\n",
      "2019-08-12 11:23:20,328 : INFO : EPOCH 15 - PROGRESS: at 34.03% examples, 673304 words/s, in_qsize 15, out_qsize 0\n",
      "2019-08-12 11:23:21,383 : INFO : EPOCH 15 - PROGRESS: at 42.89% examples, 676613 words/s, in_qsize 15, out_qsize 0\n",
      "2019-08-12 11:23:22,394 : INFO : EPOCH 15 - PROGRESS: at 51.75% examples, 685153 words/s, in_qsize 15, out_qsize 0\n",
      "2019-08-12 11:23:23,401 : INFO : EPOCH 15 - PROGRESS: at 60.09% examples, 684756 words/s, in_qsize 16, out_qsize 0\n",
      "2019-08-12 11:23:24,413 : INFO : EPOCH 15 - PROGRESS: at 68.43% examples, 683258 words/s, in_qsize 15, out_qsize 0\n",
      "2019-08-12 11:23:25,439 : INFO : EPOCH 15 - PROGRESS: at 77.31% examples, 686504 words/s, in_qsize 15, out_qsize 0\n",
      "2019-08-12 11:23:26,445 : INFO : EPOCH 15 - PROGRESS: at 85.77% examples, 687078 words/s, in_qsize 15, out_qsize 0\n",
      "2019-08-12 11:23:27,490 : INFO : EPOCH 15 - PROGRESS: at 94.25% examples, 684996 words/s, in_qsize 15, out_qsize 0\n",
      "2019-08-12 11:23:28,056 : INFO : worker thread finished; awaiting finish of 7 more threads\n",
      "2019-08-12 11:23:28,061 : INFO : worker thread finished; awaiting finish of 6 more threads\n",
      "2019-08-12 11:23:28,071 : INFO : worker thread finished; awaiting finish of 5 more threads\n",
      "2019-08-12 11:23:28,082 : INFO : worker thread finished; awaiting finish of 4 more threads\n",
      "2019-08-12 11:23:28,091 : INFO : worker thread finished; awaiting finish of 3 more threads\n",
      "2019-08-12 11:23:28,091 : INFO : worker thread finished; awaiting finish of 2 more threads\n",
      "2019-08-12 11:23:28,107 : INFO : worker thread finished; awaiting finish of 1 more threads\n",
      "2019-08-12 11:23:28,107 : INFO : worker thread finished; awaiting finish of 0 more threads\n",
      "2019-08-12 11:23:28,107 : INFO : EPOCH - 15 : training on 9227204 raw words (8222180 effective words) took 11.9s, 689261 effective words/s\n",
      "2019-08-12 11:23:29,122 : INFO : EPOCH 16 - PROGRESS: at 8.25% examples, 669571 words/s, in_qsize 15, out_qsize 0\n",
      "2019-08-12 11:23:30,145 : INFO : EPOCH 16 - PROGRESS: at 16.70% examples, 675272 words/s, in_qsize 15, out_qsize 0\n",
      "2019-08-12 11:23:31,205 : INFO : EPOCH 16 - PROGRESS: at 24.61% examples, 654346 words/s, in_qsize 15, out_qsize 0\n",
      "2019-08-12 11:23:32,216 : INFO : EPOCH 16 - PROGRESS: at 33.06% examples, 663085 words/s, in_qsize 15, out_qsize 0\n",
      "2019-08-12 11:23:33,225 : INFO : EPOCH 16 - PROGRESS: at 41.70% examples, 670817 words/s, in_qsize 15, out_qsize 0\n",
      "2019-08-12 11:23:34,281 : INFO : EPOCH 16 - PROGRESS: at 49.27% examples, 658201 words/s, in_qsize 16, out_qsize 1\n",
      "2019-08-12 11:23:35,292 : INFO : EPOCH 16 - PROGRESS: at 57.71% examples, 661655 words/s, in_qsize 15, out_qsize 0\n",
      "2019-08-12 11:23:36,333 : INFO : EPOCH 16 - PROGRESS: at 62.25% examples, 623898 words/s, in_qsize 15, out_qsize 0\n",
      "2019-08-12 11:23:37,426 : INFO : EPOCH 16 - PROGRESS: at 67.02% examples, 592751 words/s, in_qsize 16, out_qsize 0\n",
      "2019-08-12 11:23:38,455 : INFO : EPOCH 16 - PROGRESS: at 72.86% examples, 580245 words/s, in_qsize 15, out_qsize 0\n",
      "2019-08-12 11:23:39,467 : INFO : EPOCH 16 - PROGRESS: at 80.03% examples, 580343 words/s, in_qsize 16, out_qsize 0\n",
      "2019-08-12 11:23:40,474 : INFO : EPOCH 16 - PROGRESS: at 88.05% examples, 586340 words/s, in_qsize 16, out_qsize 0\n",
      "2019-08-12 11:23:41,476 : INFO : EPOCH 16 - PROGRESS: at 96.53% examples, 593856 words/s, in_qsize 15, out_qsize 0\n",
      "2019-08-12 11:23:41,846 : INFO : worker thread finished; awaiting finish of 7 more threads\n",
      "2019-08-12 11:23:41,866 : INFO : worker thread finished; awaiting finish of 6 more threads\n",
      "2019-08-12 11:23:41,878 : INFO : worker thread finished; awaiting finish of 5 more threads\n",
      "2019-08-12 11:23:41,900 : INFO : worker thread finished; awaiting finish of 4 more threads\n",
      "2019-08-12 11:23:41,901 : INFO : worker thread finished; awaiting finish of 3 more threads\n",
      "2019-08-12 11:23:41,905 : INFO : worker thread finished; awaiting finish of 2 more threads\n",
      "2019-08-12 11:23:41,924 : INFO : worker thread finished; awaiting finish of 1 more threads\n",
      "2019-08-12 11:23:41,933 : INFO : worker thread finished; awaiting finish of 0 more threads\n",
      "2019-08-12 11:23:41,934 : INFO : EPOCH - 16 : training on 9227204 raw words (8222957 effective words) took 13.8s, 595340 effective words/s\n",
      "2019-08-12 11:23:42,989 : INFO : EPOCH 17 - PROGRESS: at 7.93% examples, 625929 words/s, in_qsize 15, out_qsize 0\n",
      "2019-08-12 11:23:44,009 : INFO : EPOCH 17 - PROGRESS: at 16.70% examples, 664489 words/s, in_qsize 15, out_qsize 0\n",
      "2019-08-12 11:23:45,037 : INFO : EPOCH 17 - PROGRESS: at 25.05% examples, 666454 words/s, in_qsize 15, out_qsize 0\n",
      "2019-08-12 11:23:46,045 : INFO : EPOCH 17 - PROGRESS: at 33.59% examples, 674024 words/s, in_qsize 16, out_qsize 0\n",
      "2019-08-12 11:23:47,080 : INFO : EPOCH 17 - PROGRESS: at 41.59% examples, 666801 words/s, in_qsize 15, out_qsize 0\n"
     ]
    },
    {
     "name": "stderr",
     "output_type": "stream",
     "text": [
      "2019-08-12 11:23:48,094 : INFO : EPOCH 17 - PROGRESS: at 48.84% examples, 652928 words/s, in_qsize 15, out_qsize 0\n",
      "2019-08-12 11:23:49,109 : INFO : EPOCH 17 - PROGRESS: at 56.08% examples, 643850 words/s, in_qsize 16, out_qsize 0\n",
      "2019-08-12 11:23:50,141 : INFO : EPOCH 17 - PROGRESS: at 64.73% examples, 650130 words/s, in_qsize 13, out_qsize 2\n",
      "2019-08-12 11:23:51,171 : INFO : EPOCH 17 - PROGRESS: at 73.30% examples, 654013 words/s, in_qsize 16, out_qsize 2\n",
      "2019-08-12 11:23:52,166 : INFO : EPOCH 17 - PROGRESS: at 80.57% examples, 648334 words/s, in_qsize 15, out_qsize 0\n",
      "2019-08-12 11:23:53,166 : INFO : EPOCH 17 - PROGRESS: at 88.91% examples, 651461 words/s, in_qsize 15, out_qsize 0\n",
      "2019-08-12 11:23:54,208 : INFO : EPOCH 17 - PROGRESS: at 97.50% examples, 653500 words/s, in_qsize 15, out_qsize 0\n",
      "2019-08-12 11:23:54,396 : INFO : worker thread finished; awaiting finish of 7 more threads\n",
      "2019-08-12 11:23:54,401 : INFO : worker thread finished; awaiting finish of 6 more threads\n",
      "2019-08-12 11:23:54,418 : INFO : worker thread finished; awaiting finish of 5 more threads\n",
      "2019-08-12 11:23:54,420 : INFO : worker thread finished; awaiting finish of 4 more threads\n",
      "2019-08-12 11:23:54,421 : INFO : worker thread finished; awaiting finish of 3 more threads\n",
      "2019-08-12 11:23:54,426 : INFO : worker thread finished; awaiting finish of 2 more threads\n",
      "2019-08-12 11:23:54,427 : INFO : worker thread finished; awaiting finish of 1 more threads\n",
      "2019-08-12 11:23:54,427 : INFO : worker thread finished; awaiting finish of 0 more threads\n",
      "2019-08-12 11:23:54,427 : INFO : EPOCH - 17 : training on 9227204 raw words (8222641 effective words) took 12.5s, 658396 effective words/s\n",
      "2019-08-12 11:23:55,458 : INFO : EPOCH 18 - PROGRESS: at 7.93% examples, 642666 words/s, in_qsize 12, out_qsize 3\n",
      "2019-08-12 11:23:56,534 : INFO : EPOCH 18 - PROGRESS: at 14.33% examples, 567150 words/s, in_qsize 16, out_qsize 0\n",
      "2019-08-12 11:23:57,548 : INFO : EPOCH 18 - PROGRESS: at 21.68% examples, 577145 words/s, in_qsize 13, out_qsize 2\n",
      "2019-08-12 11:23:58,584 : INFO : EPOCH 18 - PROGRESS: at 29.70% examples, 591583 words/s, in_qsize 15, out_qsize 0\n",
      "2019-08-12 11:23:59,590 : INFO : EPOCH 18 - PROGRESS: at 38.24% examples, 613018 words/s, in_qsize 16, out_qsize 0\n",
      "2019-08-12 11:24:00,600 : INFO : EPOCH 18 - PROGRESS: at 46.35% examples, 620211 words/s, in_qsize 16, out_qsize 0\n",
      "2019-08-12 11:24:01,637 : INFO : EPOCH 18 - PROGRESS: at 54.78% examples, 627291 words/s, in_qsize 15, out_qsize 0\n",
      "2019-08-12 11:24:02,679 : INFO : EPOCH 18 - PROGRESS: at 60.52% examples, 605953 words/s, in_qsize 15, out_qsize 0\n",
      "2019-08-12 11:24:03,733 : INFO : EPOCH 18 - PROGRESS: at 67.02% examples, 594719 words/s, in_qsize 14, out_qsize 1\n",
      "2019-08-12 11:24:04,788 : INFO : EPOCH 18 - PROGRESS: at 74.80% examples, 595501 words/s, in_qsize 15, out_qsize 3\n",
      "2019-08-12 11:24:05,817 : INFO : EPOCH 18 - PROGRESS: at 79.82% examples, 578131 words/s, in_qsize 10, out_qsize 5\n",
      "2019-08-12 11:24:06,848 : INFO : EPOCH 18 - PROGRESS: at 87.83% examples, 583224 words/s, in_qsize 16, out_qsize 1\n",
      "2019-08-12 11:24:07,845 : INFO : EPOCH 18 - PROGRESS: at 95.99% examples, 589384 words/s, in_qsize 14, out_qsize 1\n",
      "2019-08-12 11:24:08,277 : INFO : worker thread finished; awaiting finish of 7 more threads\n",
      "2019-08-12 11:24:08,277 : INFO : worker thread finished; awaiting finish of 6 more threads\n",
      "2019-08-12 11:24:08,293 : INFO : worker thread finished; awaiting finish of 5 more threads\n",
      "2019-08-12 11:24:08,309 : INFO : worker thread finished; awaiting finish of 4 more threads\n",
      "2019-08-12 11:24:08,309 : INFO : worker thread finished; awaiting finish of 3 more threads\n",
      "2019-08-12 11:24:08,324 : INFO : worker thread finished; awaiting finish of 2 more threads\n",
      "2019-08-12 11:24:08,324 : INFO : worker thread finished; awaiting finish of 1 more threads\n",
      "2019-08-12 11:24:08,340 : INFO : worker thread finished; awaiting finish of 0 more threads\n",
      "2019-08-12 11:24:08,340 : INFO : EPOCH - 18 : training on 9227204 raw words (8222867 effective words) took 13.9s, 592334 effective words/s\n",
      "2019-08-12 11:24:09,366 : INFO : EPOCH 19 - PROGRESS: at 7.50% examples, 607628 words/s, in_qsize 15, out_qsize 0\n",
      "2019-08-12 11:24:10,367 : INFO : EPOCH 19 - PROGRESS: at 15.19% examples, 615821 words/s, in_qsize 15, out_qsize 0\n",
      "2019-08-12 11:24:11,386 : INFO : EPOCH 19 - PROGRESS: at 22.98% examples, 622506 words/s, in_qsize 16, out_qsize 0\n",
      "2019-08-12 11:24:12,387 : INFO : EPOCH 19 - PROGRESS: at 30.99% examples, 631574 words/s, in_qsize 14, out_qsize 1\n",
      "2019-08-12 11:24:13,390 : INFO : EPOCH 19 - PROGRESS: at 38.57% examples, 629523 words/s, in_qsize 16, out_qsize 1\n",
      "2019-08-12 11:24:14,412 : INFO : EPOCH 19 - PROGRESS: at 46.13% examples, 625205 words/s, in_qsize 16, out_qsize 0\n",
      "2019-08-12 11:24:15,465 : INFO : EPOCH 19 - PROGRESS: at 54.56% examples, 630682 words/s, in_qsize 16, out_qsize 3\n",
      "2019-08-12 11:24:16,504 : INFO : EPOCH 19 - PROGRESS: at 63.00% examples, 635824 words/s, in_qsize 12, out_qsize 3\n",
      "2019-08-12 11:24:17,536 : INFO : EPOCH 19 - PROGRESS: at 71.02% examples, 636583 words/s, in_qsize 13, out_qsize 2\n",
      "2019-08-12 11:24:18,538 : INFO : EPOCH 19 - PROGRESS: at 78.29% examples, 632073 words/s, in_qsize 15, out_qsize 4\n",
      "2019-08-12 11:24:19,549 : INFO : EPOCH 19 - PROGRESS: at 85.77% examples, 629843 words/s, in_qsize 16, out_qsize 0\n",
      "2019-08-12 11:24:20,621 : INFO : EPOCH 19 - PROGRESS: at 94.36% examples, 632515 words/s, in_qsize 16, out_qsize 0\n",
      "2019-08-12 11:24:21,218 : INFO : worker thread finished; awaiting finish of 7 more threads\n",
      "2019-08-12 11:24:21,224 : INFO : worker thread finished; awaiting finish of 6 more threads\n",
      "2019-08-12 11:24:21,229 : INFO : worker thread finished; awaiting finish of 5 more threads\n",
      "2019-08-12 11:24:21,241 : INFO : worker thread finished; awaiting finish of 4 more threads\n",
      "2019-08-12 11:24:21,250 : INFO : worker thread finished; awaiting finish of 3 more threads\n",
      "2019-08-12 11:24:21,251 : INFO : worker thread finished; awaiting finish of 2 more threads\n",
      "2019-08-12 11:24:21,260 : INFO : worker thread finished; awaiting finish of 1 more threads\n",
      "2019-08-12 11:24:21,260 : INFO : worker thread finished; awaiting finish of 0 more threads\n",
      "2019-08-12 11:24:21,260 : INFO : EPOCH - 19 : training on 9227204 raw words (8223606 effective words) took 12.9s, 636708 effective words/s\n",
      "2019-08-12 11:24:22,330 : INFO : EPOCH 20 - PROGRESS: at 7.71% examples, 603408 words/s, in_qsize 15, out_qsize 0\n",
      "2019-08-12 11:24:23,339 : INFO : EPOCH 20 - PROGRESS: at 15.84% examples, 634563 words/s, in_qsize 14, out_qsize 1\n",
      "2019-08-12 11:24:24,333 : INFO : EPOCH 20 - PROGRESS: at 23.96% examples, 644842 words/s, in_qsize 15, out_qsize 0\n",
      "2019-08-12 11:24:25,403 : INFO : EPOCH 20 - PROGRESS: at 32.30% examples, 646352 words/s, in_qsize 16, out_qsize 0\n",
      "2019-08-12 11:24:26,419 : INFO : EPOCH 20 - PROGRESS: at 39.86% examples, 639846 words/s, in_qsize 15, out_qsize 0\n",
      "2019-08-12 11:24:27,495 : INFO : EPOCH 20 - PROGRESS: at 48.19% examples, 639488 words/s, in_qsize 15, out_qsize 0\n",
      "2019-08-12 11:24:28,506 : INFO : EPOCH 20 - PROGRESS: at 55.00% examples, 627668 words/s, in_qsize 15, out_qsize 0\n",
      "2019-08-12 11:24:29,496 : INFO : EPOCH 20 - PROGRESS: at 63.33% examples, 634746 words/s, in_qsize 15, out_qsize 0\n",
      "2019-08-12 11:24:30,506 : INFO : EPOCH 20 - PROGRESS: at 70.05% examples, 624870 words/s, in_qsize 15, out_qsize 0\n",
      "2019-08-12 11:24:31,511 : INFO : EPOCH 20 - PROGRESS: at 76.44% examples, 614967 words/s, in_qsize 15, out_qsize 0\n",
      "2019-08-12 11:24:32,531 : INFO : EPOCH 20 - PROGRESS: at 83.62% examples, 611851 words/s, in_qsize 15, out_qsize 0\n",
      "2019-08-12 11:24:33,538 : INFO : EPOCH 20 - PROGRESS: at 90.76% examples, 609316 words/s, in_qsize 14, out_qsize 1\n",
      "2019-08-12 11:24:34,564 : INFO : EPOCH 20 - PROGRESS: at 97.50% examples, 603776 words/s, in_qsize 15, out_qsize 0\n",
      "2019-08-12 11:24:34,763 : INFO : worker thread finished; awaiting finish of 7 more threads\n",
      "2019-08-12 11:24:34,763 : INFO : worker thread finished; awaiting finish of 6 more threads\n",
      "2019-08-12 11:24:34,763 : INFO : worker thread finished; awaiting finish of 5 more threads\n",
      "2019-08-12 11:24:34,763 : INFO : worker thread finished; awaiting finish of 4 more threads\n",
      "2019-08-12 11:24:34,778 : INFO : worker thread finished; awaiting finish of 3 more threads\n"
     ]
    },
    {
     "name": "stderr",
     "output_type": "stream",
     "text": [
      "2019-08-12 11:24:34,794 : INFO : worker thread finished; awaiting finish of 2 more threads\n",
      "2019-08-12 11:24:34,810 : INFO : worker thread finished; awaiting finish of 1 more threads\n",
      "2019-08-12 11:24:34,810 : INFO : worker thread finished; awaiting finish of 0 more threads\n",
      "2019-08-12 11:24:34,810 : INFO : EPOCH - 20 : training on 9227204 raw words (8222886 effective words) took 13.5s, 608276 effective words/s\n",
      "2019-08-12 11:24:35,841 : INFO : EPOCH 21 - PROGRESS: at 6.73% examples, 541001 words/s, in_qsize 15, out_qsize 0\n",
      "2019-08-12 11:24:36,869 : INFO : EPOCH 21 - PROGRESS: at 14.75% examples, 591351 words/s, in_qsize 15, out_qsize 0\n",
      "2019-08-12 11:24:37,903 : INFO : EPOCH 21 - PROGRESS: at 22.87% examples, 609972 words/s, in_qsize 12, out_qsize 3\n",
      "2019-08-12 11:24:38,974 : INFO : EPOCH 21 - PROGRESS: at 31.11% examples, 616262 words/s, in_qsize 14, out_qsize 1\n",
      "2019-08-12 11:24:39,967 : INFO : EPOCH 21 - PROGRESS: at 38.89% examples, 620684 words/s, in_qsize 12, out_qsize 3\n",
      "2019-08-12 11:24:40,996 : INFO : EPOCH 21 - PROGRESS: at 47.32% examples, 631037 words/s, in_qsize 15, out_qsize 0\n",
      "2019-08-12 11:24:41,999 : INFO : EPOCH 21 - PROGRESS: at 54.78% examples, 628221 words/s, in_qsize 15, out_qsize 0\n",
      "2019-08-12 11:24:42,993 : INFO : EPOCH 21 - PROGRESS: at 62.04% examples, 624205 words/s, in_qsize 11, out_qsize 4\n",
      "2019-08-12 11:24:44,024 : INFO : EPOCH 21 - PROGRESS: at 70.16% examples, 626778 words/s, in_qsize 16, out_qsize 1\n",
      "2019-08-12 11:24:45,035 : INFO : EPOCH 21 - PROGRESS: at 77.42% examples, 623747 words/s, in_qsize 14, out_qsize 2\n",
      "2019-08-12 11:24:46,039 : INFO : EPOCH 21 - PROGRESS: at 85.99% examples, 630612 words/s, in_qsize 15, out_qsize 0\n",
      "2019-08-12 11:24:47,041 : INFO : EPOCH 21 - PROGRESS: at 93.38% examples, 628282 words/s, in_qsize 16, out_qsize 2\n",
      "2019-08-12 11:24:47,802 : INFO : worker thread finished; awaiting finish of 7 more threads\n",
      "2019-08-12 11:24:47,810 : INFO : worker thread finished; awaiting finish of 6 more threads\n",
      "2019-08-12 11:24:47,815 : INFO : worker thread finished; awaiting finish of 5 more threads\n",
      "2019-08-12 11:24:47,816 : INFO : worker thread finished; awaiting finish of 4 more threads\n",
      "2019-08-12 11:24:47,819 : INFO : worker thread finished; awaiting finish of 3 more threads\n",
      "2019-08-12 11:24:47,823 : INFO : worker thread finished; awaiting finish of 2 more threads\n",
      "2019-08-12 11:24:47,839 : INFO : worker thread finished; awaiting finish of 1 more threads\n",
      "2019-08-12 11:24:47,839 : INFO : worker thread finished; awaiting finish of 0 more threads\n",
      "2019-08-12 11:24:47,839 : INFO : EPOCH - 21 : training on 9227204 raw words (8223112 effective words) took 13.0s, 631316 effective words/s\n",
      "2019-08-12 11:24:48,871 : INFO : EPOCH 22 - PROGRESS: at 6.95% examples, 566082 words/s, in_qsize 16, out_qsize 0\n",
      "2019-08-12 11:24:49,893 : INFO : EPOCH 22 - PROGRESS: at 15.30% examples, 617747 words/s, in_qsize 14, out_qsize 1\n",
      "2019-08-12 11:24:50,919 : INFO : EPOCH 22 - PROGRESS: at 23.52% examples, 631213 words/s, in_qsize 15, out_qsize 0\n",
      "2019-08-12 11:24:51,948 : INFO : EPOCH 22 - PROGRESS: at 31.21% examples, 629272 words/s, in_qsize 15, out_qsize 0\n",
      "2019-08-12 11:24:52,962 : INFO : EPOCH 22 - PROGRESS: at 39.75% examples, 641685 words/s, in_qsize 16, out_qsize 0\n",
      "2019-08-12 11:24:54,000 : INFO : EPOCH 22 - PROGRESS: at 48.08% examples, 644108 words/s, in_qsize 16, out_qsize 0\n",
      "2019-08-12 11:24:55,027 : INFO : EPOCH 22 - PROGRESS: at 56.51% examples, 649498 words/s, in_qsize 16, out_qsize 1\n",
      "2019-08-12 11:24:56,023 : INFO : EPOCH 22 - PROGRESS: at 63.87% examples, 643897 words/s, in_qsize 14, out_qsize 1\n",
      "2019-08-12 11:24:57,036 : INFO : EPOCH 22 - PROGRESS: at 71.99% examples, 645932 words/s, in_qsize 15, out_qsize 0\n",
      "2019-08-12 11:24:58,053 : INFO : EPOCH 22 - PROGRESS: at 80.25% examples, 647734 words/s, in_qsize 16, out_qsize 0\n",
      "2019-08-12 11:24:59,067 : INFO : EPOCH 22 - PROGRESS: at 88.48% examples, 649234 words/s, in_qsize 16, out_qsize 0\n",
      "2019-08-12 11:25:00,142 : INFO : EPOCH 22 - PROGRESS: at 96.85% examples, 648663 words/s, in_qsize 16, out_qsize 0\n",
      "2019-08-12 11:25:00,389 : INFO : worker thread finished; awaiting finish of 7 more threads\n",
      "2019-08-12 11:25:00,389 : INFO : worker thread finished; awaiting finish of 6 more threads\n",
      "2019-08-12 11:25:00,404 : INFO : worker thread finished; awaiting finish of 5 more threads\n",
      "2019-08-12 11:25:00,418 : INFO : worker thread finished; awaiting finish of 4 more threads\n",
      "2019-08-12 11:25:00,418 : INFO : worker thread finished; awaiting finish of 3 more threads\n",
      "2019-08-12 11:25:00,434 : INFO : worker thread finished; awaiting finish of 2 more threads\n",
      "2019-08-12 11:25:00,434 : INFO : worker thread finished; awaiting finish of 1 more threads\n",
      "2019-08-12 11:25:00,449 : INFO : worker thread finished; awaiting finish of 0 more threads\n",
      "2019-08-12 11:25:00,449 : INFO : EPOCH - 22 : training on 9227204 raw words (8221522 effective words) took 12.6s, 653448 effective words/s\n",
      "2019-08-12 11:25:01,496 : INFO : EPOCH 23 - PROGRESS: at 7.82% examples, 616241 words/s, in_qsize 15, out_qsize 0\n",
      "2019-08-12 11:25:02,514 : INFO : EPOCH 23 - PROGRESS: at 16.27% examples, 649978 words/s, in_qsize 15, out_qsize 0\n",
      "2019-08-12 11:25:03,551 : INFO : EPOCH 23 - PROGRESS: at 24.50% examples, 651843 words/s, in_qsize 15, out_qsize 0\n",
      "2019-08-12 11:25:04,548 : INFO : EPOCH 23 - PROGRESS: at 32.73% examples, 657996 words/s, in_qsize 15, out_qsize 0\n",
      "2019-08-12 11:25:05,552 : INFO : EPOCH 23 - PROGRESS: at 40.94% examples, 661296 words/s, in_qsize 12, out_qsize 3\n",
      "2019-08-12 11:25:06,600 : INFO : EPOCH 23 - PROGRESS: at 49.38% examples, 660849 words/s, in_qsize 15, out_qsize 0\n",
      "2019-08-12 11:25:07,631 : INFO : EPOCH 23 - PROGRESS: at 57.60% examples, 660851 words/s, in_qsize 15, out_qsize 0\n",
      "2019-08-12 11:25:08,654 : INFO : EPOCH 23 - PROGRESS: at 65.28% examples, 655873 words/s, in_qsize 15, out_qsize 0\n",
      "2019-08-12 11:25:09,659 : INFO : EPOCH 23 - PROGRESS: at 73.62% examples, 658662 words/s, in_qsize 15, out_qsize 0\n",
      "2019-08-12 11:25:10,697 : INFO : EPOCH 23 - PROGRESS: at 81.66% examples, 656085 words/s, in_qsize 16, out_qsize 0\n",
      "2019-08-12 11:25:11,698 : INFO : EPOCH 23 - PROGRESS: at 90.11% examples, 659319 words/s, in_qsize 15, out_qsize 0\n",
      "2019-08-12 11:25:12,708 : INFO : EPOCH 23 - PROGRESS: at 98.14% examples, 659061 words/s, in_qsize 15, out_qsize 0\n",
      "2019-08-12 11:25:12,854 : INFO : worker thread finished; awaiting finish of 7 more threads\n",
      "2019-08-12 11:25:12,901 : INFO : worker thread finished; awaiting finish of 6 more threads\n",
      "2019-08-12 11:25:12,901 : INFO : worker thread finished; awaiting finish of 5 more threads\n",
      "2019-08-12 11:25:12,901 : INFO : worker thread finished; awaiting finish of 4 more threads\n",
      "2019-08-12 11:25:12,901 : INFO : worker thread finished; awaiting finish of 3 more threads\n",
      "2019-08-12 11:25:12,901 : INFO : worker thread finished; awaiting finish of 2 more threads\n",
      "2019-08-12 11:25:12,917 : INFO : worker thread finished; awaiting finish of 1 more threads\n",
      "2019-08-12 11:25:12,933 : INFO : worker thread finished; awaiting finish of 0 more threads\n",
      "2019-08-12 11:25:12,933 : INFO : EPOCH - 23 : training on 9227204 raw words (8222966 effective words) took 12.5s, 659218 effective words/s\n",
      "2019-08-12 11:25:13,956 : INFO : EPOCH 24 - PROGRESS: at 7.17% examples, 583488 words/s, in_qsize 15, out_qsize 3\n",
      "2019-08-12 11:25:14,968 : INFO : EPOCH 24 - PROGRESS: at 15.62% examples, 631232 words/s, in_qsize 15, out_qsize 0\n",
      "2019-08-12 11:25:15,980 : INFO : EPOCH 24 - PROGRESS: at 24.06% examples, 651846 words/s, in_qsize 16, out_qsize 0\n",
      "2019-08-12 11:25:17,022 : INFO : EPOCH 24 - PROGRESS: at 31.21% examples, 630051 words/s, in_qsize 16, out_qsize 0\n",
      "2019-08-12 11:25:18,064 : INFO : EPOCH 24 - PROGRESS: at 39.43% examples, 632251 words/s, in_qsize 15, out_qsize 0\n",
      "2019-08-12 11:25:19,127 : INFO : EPOCH 24 - PROGRESS: at 48.19% examples, 641233 words/s, in_qsize 15, out_qsize 0\n",
      "2019-08-12 11:25:20,149 : INFO : EPOCH 24 - PROGRESS: at 55.11% examples, 629705 words/s, in_qsize 15, out_qsize 0\n",
      "2019-08-12 11:25:21,197 : INFO : EPOCH 24 - PROGRESS: at 63.33% examples, 631195 words/s, in_qsize 14, out_qsize 1\n",
      "2019-08-12 11:25:22,224 : INFO : EPOCH 24 - PROGRESS: at 71.88% examples, 636984 words/s, in_qsize 14, out_qsize 1\n",
      "2019-08-12 11:25:23,265 : INFO : EPOCH 24 - PROGRESS: at 79.92% examples, 637240 words/s, in_qsize 16, out_qsize 0\n"
     ]
    },
    {
     "name": "stderr",
     "output_type": "stream",
     "text": [
      "2019-08-12 11:25:24,284 : INFO : EPOCH 24 - PROGRESS: at 87.29% examples, 633313 words/s, in_qsize 15, out_qsize 0\n",
      "2019-08-12 11:25:25,292 : INFO : EPOCH 24 - PROGRESS: at 96.09% examples, 639655 words/s, in_qsize 14, out_qsize 1\n",
      "2019-08-12 11:25:25,681 : INFO : worker thread finished; awaiting finish of 7 more threads\n",
      "2019-08-12 11:25:25,700 : INFO : worker thread finished; awaiting finish of 6 more threads\n",
      "2019-08-12 11:25:25,708 : INFO : worker thread finished; awaiting finish of 5 more threads\n",
      "2019-08-12 11:25:25,716 : INFO : worker thread finished; awaiting finish of 4 more threads\n",
      "2019-08-12 11:25:25,716 : INFO : worker thread finished; awaiting finish of 3 more threads\n",
      "2019-08-12 11:25:25,732 : INFO : worker thread finished; awaiting finish of 2 more threads\n",
      "2019-08-12 11:25:25,732 : INFO : worker thread finished; awaiting finish of 1 more threads\n",
      "2019-08-12 11:25:25,748 : INFO : worker thread finished; awaiting finish of 0 more threads\n",
      "2019-08-12 11:25:25,748 : INFO : EPOCH - 24 : training on 9227204 raw words (8221311 effective words) took 12.8s, 642168 effective words/s\n",
      "2019-08-12 11:25:26,762 : INFO : EPOCH 25 - PROGRESS: at 7.71% examples, 631279 words/s, in_qsize 15, out_qsize 0\n",
      "2019-08-12 11:25:27,767 : INFO : EPOCH 25 - PROGRESS: at 16.38% examples, 666542 words/s, in_qsize 15, out_qsize 0\n",
      "2019-08-12 11:25:28,786 : INFO : EPOCH 25 - PROGRESS: at 24.17% examples, 655636 words/s, in_qsize 15, out_qsize 0\n",
      "2019-08-12 11:25:29,812 : INFO : EPOCH 25 - PROGRESS: at 33.06% examples, 670440 words/s, in_qsize 15, out_qsize 0\n",
      "2019-08-12 11:25:30,809 : INFO : EPOCH 25 - PROGRESS: at 41.05% examples, 667596 words/s, in_qsize 15, out_qsize 0\n",
      "2019-08-12 11:25:31,822 : INFO : EPOCH 25 - PROGRESS: at 49.70% examples, 674756 words/s, in_qsize 15, out_qsize 0\n",
      "2019-08-12 11:25:32,834 : INFO : EPOCH 25 - PROGRESS: at 57.49% examples, 668664 words/s, in_qsize 15, out_qsize 0\n",
      "2019-08-12 11:25:33,838 : INFO : EPOCH 25 - PROGRESS: at 64.95% examples, 661939 words/s, in_qsize 16, out_qsize 2\n",
      "2019-08-12 11:25:34,829 : INFO : EPOCH 25 - PROGRESS: at 73.19% examples, 663540 words/s, in_qsize 12, out_qsize 3\n",
      "2019-08-12 11:25:35,845 : INFO : EPOCH 25 - PROGRESS: at 81.34% examples, 662615 words/s, in_qsize 14, out_qsize 1\n",
      "2019-08-12 11:25:36,858 : INFO : EPOCH 25 - PROGRESS: at 90.22% examples, 668231 words/s, in_qsize 16, out_qsize 0\n",
      "2019-08-12 11:25:37,868 : INFO : EPOCH 25 - PROGRESS: at 98.26% examples, 666681 words/s, in_qsize 15, out_qsize 0\n",
      "2019-08-12 11:25:37,980 : INFO : worker thread finished; awaiting finish of 7 more threads\n",
      "2019-08-12 11:25:37,982 : INFO : worker thread finished; awaiting finish of 6 more threads\n",
      "2019-08-12 11:25:37,989 : INFO : worker thread finished; awaiting finish of 5 more threads\n",
      "2019-08-12 11:25:37,991 : INFO : worker thread finished; awaiting finish of 4 more threads\n",
      "2019-08-12 11:25:38,001 : INFO : worker thread finished; awaiting finish of 3 more threads\n",
      "2019-08-12 11:25:38,002 : INFO : worker thread finished; awaiting finish of 2 more threads\n",
      "2019-08-12 11:25:38,017 : INFO : worker thread finished; awaiting finish of 1 more threads\n",
      "2019-08-12 11:25:38,017 : INFO : worker thread finished; awaiting finish of 0 more threads\n",
      "2019-08-12 11:25:38,017 : INFO : EPOCH - 25 : training on 9227204 raw words (8222108 effective words) took 12.3s, 670341 effective words/s\n",
      "2019-08-12 11:25:39,054 : INFO : EPOCH 26 - PROGRESS: at 7.82% examples, 635478 words/s, in_qsize 15, out_qsize 0\n",
      "2019-08-12 11:25:40,069 : INFO : EPOCH 26 - PROGRESS: at 16.05% examples, 651989 words/s, in_qsize 16, out_qsize 1\n",
      "2019-08-12 11:25:41,080 : INFO : EPOCH 26 - PROGRESS: at 24.50% examples, 662666 words/s, in_qsize 15, out_qsize 0\n",
      "2019-08-12 11:25:42,152 : INFO : EPOCH 26 - PROGRESS: at 31.75% examples, 636409 words/s, in_qsize 15, out_qsize 0\n",
      "2019-08-12 11:25:43,157 : INFO : EPOCH 26 - PROGRESS: at 39.65% examples, 637430 words/s, in_qsize 16, out_qsize 0\n",
      "2019-08-12 11:25:44,179 : INFO : EPOCH 26 - PROGRESS: at 48.29% examples, 647863 words/s, in_qsize 15, out_qsize 0\n",
      "2019-08-12 11:25:45,197 : INFO : EPOCH 26 - PROGRESS: at 56.94% examples, 655788 words/s, in_qsize 13, out_qsize 2\n",
      "2019-08-12 11:25:46,192 : INFO : EPOCH 26 - PROGRESS: at 65.06% examples, 656570 words/s, in_qsize 12, out_qsize 3\n",
      "2019-08-12 11:25:47,218 : INFO : EPOCH 26 - PROGRESS: at 72.53% examples, 651093 words/s, in_qsize 16, out_qsize 0\n",
      "2019-08-12 11:25:48,218 : INFO : EPOCH 26 - PROGRESS: at 80.90% examples, 653804 words/s, in_qsize 12, out_qsize 3\n",
      "2019-08-12 11:25:49,232 : INFO : EPOCH 26 - PROGRESS: at 89.13% examples, 655381 words/s, in_qsize 15, out_qsize 0\n",
      "2019-08-12 11:25:50,269 : INFO : EPOCH 26 - PROGRESS: at 96.75% examples, 650354 words/s, in_qsize 13, out_qsize 2\n",
      "2019-08-12 11:25:50,601 : INFO : worker thread finished; awaiting finish of 7 more threads\n",
      "2019-08-12 11:25:50,619 : INFO : worker thread finished; awaiting finish of 6 more threads\n",
      "2019-08-12 11:25:50,623 : INFO : worker thread finished; awaiting finish of 5 more threads\n",
      "2019-08-12 11:25:50,645 : INFO : worker thread finished; awaiting finish of 4 more threads\n",
      "2019-08-12 11:25:50,650 : INFO : worker thread finished; awaiting finish of 3 more threads\n",
      "2019-08-12 11:25:50,656 : INFO : worker thread finished; awaiting finish of 2 more threads\n",
      "2019-08-12 11:25:50,656 : INFO : worker thread finished; awaiting finish of 1 more threads\n",
      "2019-08-12 11:25:50,671 : INFO : worker thread finished; awaiting finish of 0 more threads\n",
      "2019-08-12 11:25:50,671 : INFO : EPOCH - 26 : training on 9227204 raw words (8221551 effective words) took 12.6s, 651049 effective words/s\n",
      "2019-08-12 11:25:51,715 : INFO : EPOCH 27 - PROGRESS: at 6.62% examples, 533697 words/s, in_qsize 16, out_qsize 0\n",
      "2019-08-12 11:25:52,715 : INFO : EPOCH 27 - PROGRESS: at 14.54% examples, 587955 words/s, in_qsize 12, out_qsize 3\n",
      "2019-08-12 11:25:53,760 : INFO : EPOCH 27 - PROGRESS: at 22.87% examples, 613844 words/s, in_qsize 16, out_qsize 0\n",
      "2019-08-12 11:25:54,778 : INFO : EPOCH 27 - PROGRESS: at 31.11% examples, 625620 words/s, in_qsize 15, out_qsize 0\n",
      "2019-08-12 11:25:55,806 : INFO : EPOCH 27 - PROGRESS: at 39.86% examples, 640775 words/s, in_qsize 15, out_qsize 0\n",
      "2019-08-12 11:25:56,845 : INFO : EPOCH 27 - PROGRESS: at 48.40% examples, 646909 words/s, in_qsize 16, out_qsize 0\n",
      "2019-08-12 11:25:57,901 : INFO : EPOCH 27 - PROGRESS: at 57.16% examples, 652613 words/s, in_qsize 12, out_qsize 3\n",
      "2019-08-12 11:25:58,930 : INFO : EPOCH 27 - PROGRESS: at 65.72% examples, 656895 words/s, in_qsize 15, out_qsize 0\n",
      "2019-08-12 11:25:59,931 : INFO : EPOCH 27 - PROGRESS: at 73.83% examples, 658037 words/s, in_qsize 14, out_qsize 1\n",
      "2019-08-12 11:26:00,996 : INFO : EPOCH 27 - PROGRESS: at 81.23% examples, 648547 words/s, in_qsize 15, out_qsize 0\n",
      "2019-08-12 11:26:01,999 : INFO : EPOCH 27 - PROGRESS: at 89.02% examples, 647835 words/s, in_qsize 16, out_qsize 0\n",
      "2019-08-12 11:26:02,997 : INFO : EPOCH 27 - PROGRESS: at 96.96% examples, 647824 words/s, in_qsize 16, out_qsize 0\n",
      "2019-08-12 11:26:03,246 : INFO : worker thread finished; awaiting finish of 7 more threads\n",
      "2019-08-12 11:26:03,252 : INFO : worker thread finished; awaiting finish of 6 more threads\n",
      "2019-08-12 11:26:03,258 : INFO : worker thread finished; awaiting finish of 5 more threads\n",
      "2019-08-12 11:26:03,261 : INFO : worker thread finished; awaiting finish of 4 more threads\n",
      "2019-08-12 11:26:03,269 : INFO : worker thread finished; awaiting finish of 3 more threads\n",
      "2019-08-12 11:26:03,285 : INFO : worker thread finished; awaiting finish of 2 more threads\n",
      "2019-08-12 11:26:03,285 : INFO : worker thread finished; awaiting finish of 1 more threads\n",
      "2019-08-12 11:26:03,285 : INFO : worker thread finished; awaiting finish of 0 more threads\n",
      "2019-08-12 11:26:03,285 : INFO : EPOCH - 27 : training on 9227204 raw words (8222986 effective words) took 12.6s, 652760 effective words/s\n",
      "2019-08-12 11:26:04,367 : INFO : EPOCH 28 - PROGRESS: at 7.17% examples, 554877 words/s, in_qsize 15, out_qsize 0\n",
      "2019-08-12 11:26:05,398 : INFO : EPOCH 28 - PROGRESS: at 15.62% examples, 614991 words/s, in_qsize 16, out_qsize 0\n",
      "2019-08-12 11:26:06,407 : INFO : EPOCH 28 - PROGRESS: at 24.07% examples, 639056 words/s, in_qsize 14, out_qsize 1\n",
      "2019-08-12 11:26:07,503 : INFO : EPOCH 28 - PROGRESS: at 32.08% examples, 629657 words/s, in_qsize 16, out_qsize 0\n"
     ]
    },
    {
     "name": "stderr",
     "output_type": "stream",
     "text": [
      "2019-08-12 11:26:08,595 : INFO : EPOCH 28 - PROGRESS: at 39.22% examples, 610778 words/s, in_qsize 15, out_qsize 0\n",
      "2019-08-12 11:26:09,598 : INFO : EPOCH 28 - PROGRESS: at 47.54% examples, 622407 words/s, in_qsize 16, out_qsize 0\n",
      "2019-08-12 11:26:10,652 : INFO : EPOCH 28 - PROGRESS: at 54.99% examples, 616836 words/s, in_qsize 14, out_qsize 1\n",
      "2019-08-12 11:26:11,646 : INFO : EPOCH 28 - PROGRESS: at 62.47% examples, 616584 words/s, in_qsize 15, out_qsize 0\n",
      "2019-08-12 11:26:12,676 : INFO : EPOCH 28 - PROGRESS: at 68.42% examples, 601458 words/s, in_qsize 10, out_qsize 6\n",
      "2019-08-12 11:26:13,685 : INFO : EPOCH 28 - PROGRESS: at 74.60% examples, 591877 words/s, in_qsize 13, out_qsize 3\n",
      "2019-08-12 11:26:14,763 : INFO : EPOCH 28 - PROGRESS: at 80.90% examples, 581246 words/s, in_qsize 16, out_qsize 0\n",
      "2019-08-12 11:26:15,780 : INFO : EPOCH 28 - PROGRESS: at 86.42% examples, 569738 words/s, in_qsize 15, out_qsize 0\n",
      "2019-08-12 11:26:16,788 : INFO : EPOCH 28 - PROGRESS: at 94.36% examples, 575423 words/s, in_qsize 15, out_qsize 0\n",
      "2019-08-12 11:26:17,410 : INFO : worker thread finished; awaiting finish of 7 more threads\n",
      "2019-08-12 11:26:17,410 : INFO : worker thread finished; awaiting finish of 6 more threads\n",
      "2019-08-12 11:26:17,410 : INFO : worker thread finished; awaiting finish of 5 more threads\n",
      "2019-08-12 11:26:17,410 : INFO : worker thread finished; awaiting finish of 4 more threads\n",
      "2019-08-12 11:26:17,425 : INFO : worker thread finished; awaiting finish of 3 more threads\n",
      "2019-08-12 11:26:17,441 : INFO : worker thread finished; awaiting finish of 2 more threads\n",
      "2019-08-12 11:26:17,441 : INFO : worker thread finished; awaiting finish of 1 more threads\n",
      "2019-08-12 11:26:17,441 : INFO : worker thread finished; awaiting finish of 0 more threads\n",
      "2019-08-12 11:26:17,441 : INFO : EPOCH - 28 : training on 9227204 raw words (8221944 effective words) took 14.1s, 581481 effective words/s\n",
      "2019-08-12 11:26:18,484 : INFO : EPOCH 29 - PROGRESS: at 7.39% examples, 600862 words/s, in_qsize 15, out_qsize 0\n",
      "2019-08-12 11:26:19,489 : INFO : EPOCH 29 - PROGRESS: at 15.19% examples, 619406 words/s, in_qsize 15, out_qsize 1\n",
      "2019-08-12 11:26:20,492 : INFO : EPOCH 29 - PROGRESS: at 22.43% examples, 611491 words/s, in_qsize 16, out_qsize 0\n",
      "2019-08-12 11:26:21,613 : INFO : EPOCH 29 - PROGRESS: at 28.61% examples, 568649 words/s, in_qsize 16, out_qsize 0\n",
      "2019-08-12 11:26:22,628 : INFO : EPOCH 29 - PROGRESS: at 34.02% examples, 542928 words/s, in_qsize 15, out_qsize 0\n",
      "2019-08-12 11:26:23,666 : INFO : EPOCH 29 - PROGRESS: at 40.94% examples, 544112 words/s, in_qsize 13, out_qsize 2\n",
      "2019-08-12 11:26:24,678 : INFO : EPOCH 29 - PROGRESS: at 45.59% examples, 520723 words/s, in_qsize 16, out_qsize 0\n",
      "2019-08-12 11:26:25,680 : INFO : EPOCH 29 - PROGRESS: at 51.86% examples, 520151 words/s, in_qsize 15, out_qsize 0\n",
      "2019-08-12 11:26:26,693 : INFO : EPOCH 29 - PROGRESS: at 57.71% examples, 515225 words/s, in_qsize 15, out_qsize 0\n",
      "2019-08-12 11:26:27,686 : INFO : EPOCH 29 - PROGRESS: at 65.28% examples, 525683 words/s, in_qsize 13, out_qsize 2\n",
      "2019-08-12 11:26:28,712 : INFO : EPOCH 29 - PROGRESS: at 72.32% examples, 529606 words/s, in_qsize 15, out_qsize 0\n",
      "2019-08-12 11:26:29,740 : INFO : EPOCH 29 - PROGRESS: at 79.70% examples, 534306 words/s, in_qsize 15, out_qsize 0\n",
      "2019-08-12 11:26:30,872 : INFO : EPOCH 29 - PROGRESS: at 87.40% examples, 536665 words/s, in_qsize 15, out_qsize 0\n",
      "2019-08-12 11:26:31,864 : INFO : EPOCH 29 - PROGRESS: at 94.90% examples, 541913 words/s, in_qsize 15, out_qsize 0\n",
      "2019-08-12 11:26:32,374 : INFO : worker thread finished; awaiting finish of 7 more threads\n",
      "2019-08-12 11:26:32,414 : INFO : worker thread finished; awaiting finish of 6 more threads\n",
      "2019-08-12 11:26:32,421 : INFO : worker thread finished; awaiting finish of 5 more threads\n",
      "2019-08-12 11:26:32,429 : INFO : worker thread finished; awaiting finish of 4 more threads\n",
      "2019-08-12 11:26:32,429 : INFO : worker thread finished; awaiting finish of 3 more threads\n",
      "2019-08-12 11:26:32,445 : INFO : worker thread finished; awaiting finish of 2 more threads\n",
      "2019-08-12 11:26:32,460 : INFO : worker thread finished; awaiting finish of 1 more threads\n",
      "2019-08-12 11:26:32,460 : INFO : worker thread finished; awaiting finish of 0 more threads\n",
      "2019-08-12 11:26:32,460 : INFO : EPOCH - 29 : training on 9227204 raw words (8222761 effective words) took 15.0s, 548637 effective words/s\n",
      "2019-08-12 11:26:33,469 : INFO : EPOCH 30 - PROGRESS: at 7.27% examples, 596534 words/s, in_qsize 15, out_qsize 0\n",
      "2019-08-12 11:26:34,483 : INFO : EPOCH 30 - PROGRESS: at 15.84% examples, 649131 words/s, in_qsize 15, out_qsize 0\n",
      "2019-08-12 11:26:35,481 : INFO : EPOCH 30 - PROGRESS: at 23.52% examples, 641995 words/s, in_qsize 16, out_qsize 0\n",
      "2019-08-12 11:26:36,505 : INFO : EPOCH 30 - PROGRESS: at 32.19% examples, 655642 words/s, in_qsize 15, out_qsize 0\n",
      "2019-08-12 11:26:37,509 : INFO : EPOCH 30 - PROGRESS: at 39.97% examples, 651881 words/s, in_qsize 15, out_qsize 0\n",
      "2019-08-12 11:26:38,513 : INFO : EPOCH 30 - PROGRESS: at 47.32% examples, 644123 words/s, in_qsize 15, out_qsize 0\n",
      "2019-08-12 11:26:39,538 : INFO : EPOCH 30 - PROGRESS: at 55.21% examples, 643274 words/s, in_qsize 13, out_qsize 2\n",
      "2019-08-12 11:26:40,568 : INFO : EPOCH 30 - PROGRESS: at 63.22% examples, 642143 words/s, in_qsize 15, out_qsize 0\n",
      "2019-08-12 11:26:41,583 : INFO : EPOCH 30 - PROGRESS: at 71.35% examples, 644733 words/s, in_qsize 12, out_qsize 3\n",
      "2019-08-12 11:26:42,599 : INFO : EPOCH 30 - PROGRESS: at 79.92% examples, 649430 words/s, in_qsize 16, out_qsize 1\n",
      "2019-08-12 11:26:43,599 : INFO : EPOCH 30 - PROGRESS: at 88.05% examples, 650458 words/s, in_qsize 15, out_qsize 0\n",
      "2019-08-12 11:26:44,630 : INFO : EPOCH 30 - PROGRESS: at 96.42% examples, 652410 words/s, in_qsize 15, out_qsize 0\n",
      "2019-08-12 11:26:44,979 : INFO : worker thread finished; awaiting finish of 7 more threads\n",
      "2019-08-12 11:26:44,981 : INFO : worker thread finished; awaiting finish of 6 more threads\n",
      "2019-08-12 11:26:44,982 : INFO : worker thread finished; awaiting finish of 5 more threads\n",
      "2019-08-12 11:26:44,997 : INFO : worker thread finished; awaiting finish of 4 more threads\n",
      "2019-08-12 11:26:44,999 : INFO : worker thread finished; awaiting finish of 3 more threads\n",
      "2019-08-12 11:26:45,003 : INFO : worker thread finished; awaiting finish of 2 more threads\n",
      "2019-08-12 11:26:45,013 : INFO : worker thread finished; awaiting finish of 1 more threads\n",
      "2019-08-12 11:26:45,013 : INFO : worker thread finished; awaiting finish of 0 more threads\n",
      "2019-08-12 11:26:45,013 : INFO : EPOCH - 30 : training on 9227204 raw words (8223368 effective words) took 12.5s, 655378 effective words/s\n",
      "2019-08-12 11:26:46,075 : INFO : EPOCH 31 - PROGRESS: at 7.82% examples, 621058 words/s, in_qsize 15, out_qsize 1\n",
      "2019-08-12 11:26:47,069 : INFO : EPOCH 31 - PROGRESS: at 16.27% examples, 655634 words/s, in_qsize 15, out_qsize 0\n",
      "2019-08-12 11:26:48,096 : INFO : EPOCH 31 - PROGRESS: at 24.72% examples, 664586 words/s, in_qsize 13, out_qsize 2\n",
      "2019-08-12 11:26:49,111 : INFO : EPOCH 31 - PROGRESS: at 32.62% examples, 659239 words/s, in_qsize 14, out_qsize 1\n",
      "2019-08-12 11:26:50,104 : INFO : EPOCH 31 - PROGRESS: at 40.83% examples, 662467 words/s, in_qsize 16, out_qsize 0\n",
      "2019-08-12 11:26:51,129 : INFO : EPOCH 31 - PROGRESS: at 48.84% examples, 660150 words/s, in_qsize 14, out_qsize 1\n",
      "2019-08-12 11:26:52,138 : INFO : EPOCH 31 - PROGRESS: at 56.51% examples, 655556 words/s, in_qsize 15, out_qsize 0\n",
      "2019-08-12 11:26:53,145 : INFO : EPOCH 31 - PROGRESS: at 63.97% examples, 649836 words/s, in_qsize 15, out_qsize 0\n",
      "2019-08-12 11:26:54,153 : INFO : EPOCH 31 - PROGRESS: at 71.88% examples, 648636 words/s, in_qsize 15, out_qsize 0\n",
      "2019-08-12 11:26:55,181 : INFO : EPOCH 31 - PROGRESS: at 78.83% examples, 639765 words/s, in_qsize 16, out_qsize 2\n",
      "2019-08-12 11:26:56,207 : INFO : EPOCH 31 - PROGRESS: at 86.85% examples, 639237 words/s, in_qsize 15, out_qsize 0\n",
      "2019-08-12 11:26:57,240 : INFO : EPOCH 31 - PROGRESS: at 95.66% examples, 644436 words/s, in_qsize 15, out_qsize 0\n",
      "2019-08-12 11:26:57,714 : INFO : worker thread finished; awaiting finish of 7 more threads\n",
      "2019-08-12 11:26:57,727 : INFO : worker thread finished; awaiting finish of 6 more threads\n",
      "2019-08-12 11:26:57,728 : INFO : worker thread finished; awaiting finish of 5 more threads\n"
     ]
    },
    {
     "name": "stderr",
     "output_type": "stream",
     "text": [
      "2019-08-12 11:26:57,730 : INFO : worker thread finished; awaiting finish of 4 more threads\n",
      "2019-08-12 11:26:57,733 : INFO : worker thread finished; awaiting finish of 3 more threads\n",
      "2019-08-12 11:26:57,738 : INFO : worker thread finished; awaiting finish of 2 more threads\n",
      "2019-08-12 11:26:57,748 : INFO : worker thread finished; awaiting finish of 1 more threads\n",
      "2019-08-12 11:26:57,763 : INFO : worker thread finished; awaiting finish of 0 more threads\n",
      "2019-08-12 11:26:57,763 : INFO : EPOCH - 31 : training on 9227204 raw words (8221983 effective words) took 12.7s, 646317 effective words/s\n",
      "2019-08-12 11:26:58,779 : INFO : EPOCH 32 - PROGRESS: at 7.71% examples, 626195 words/s, in_qsize 14, out_qsize 1\n",
      "2019-08-12 11:26:59,786 : INFO : EPOCH 32 - PROGRESS: at 16.05% examples, 652836 words/s, in_qsize 14, out_qsize 1\n",
      "2019-08-12 11:27:00,789 : INFO : EPOCH 32 - PROGRESS: at 23.63% examples, 642065 words/s, in_qsize 11, out_qsize 4\n",
      "2019-08-12 11:27:01,833 : INFO : EPOCH 32 - PROGRESS: at 32.19% examples, 650634 words/s, in_qsize 15, out_qsize 0\n",
      "2019-08-12 11:27:02,887 : INFO : EPOCH 32 - PROGRESS: at 40.62% examples, 652768 words/s, in_qsize 16, out_qsize 0\n",
      "2019-08-12 11:27:03,907 : INFO : EPOCH 32 - PROGRESS: at 49.38% examples, 661403 words/s, in_qsize 15, out_qsize 0\n",
      "2019-08-12 11:27:04,919 : INFO : EPOCH 32 - PROGRESS: at 57.38% examples, 661082 words/s, in_qsize 13, out_qsize 2\n",
      "2019-08-12 11:27:05,928 : INFO : EPOCH 32 - PROGRESS: at 65.83% examples, 663847 words/s, in_qsize 15, out_qsize 0\n",
      "2019-08-12 11:27:06,962 : INFO : EPOCH 32 - PROGRESS: at 74.05% examples, 662541 words/s, in_qsize 15, out_qsize 0\n",
      "2019-08-12 11:27:07,987 : INFO : EPOCH 32 - PROGRESS: at 82.32% examples, 662336 words/s, in_qsize 12, out_qsize 3\n",
      "2019-08-12 11:27:09,000 : INFO : EPOCH 32 - PROGRESS: at 90.98% examples, 666485 words/s, in_qsize 15, out_qsize 0\n",
      "2019-08-12 11:27:10,018 : INFO : EPOCH 32 - PROGRESS: at 99.11% examples, 665476 words/s, in_qsize 8, out_qsize 1\n",
      "2019-08-12 11:27:10,058 : INFO : worker thread finished; awaiting finish of 7 more threads\n",
      "2019-08-12 11:27:10,068 : INFO : worker thread finished; awaiting finish of 6 more threads\n",
      "2019-08-12 11:27:10,129 : INFO : worker thread finished; awaiting finish of 5 more threads\n",
      "2019-08-12 11:27:10,144 : INFO : worker thread finished; awaiting finish of 4 more threads\n",
      "2019-08-12 11:27:10,148 : INFO : worker thread finished; awaiting finish of 3 more threads\n",
      "2019-08-12 11:27:10,160 : INFO : worker thread finished; awaiting finish of 2 more threads\n",
      "2019-08-12 11:27:10,184 : INFO : worker thread finished; awaiting finish of 1 more threads\n",
      "2019-08-12 11:27:10,189 : INFO : worker thread finished; awaiting finish of 0 more threads\n",
      "2019-08-12 11:27:10,190 : INFO : EPOCH - 32 : training on 9227204 raw words (8222621 effective words) took 12.4s, 662486 effective words/s\n",
      "2019-08-12 11:27:10,198 : INFO : training on a 295270528 raw words (263119073 effective words) took 455.8s, 577282 effective words/s\n"
     ]
    },
    {
     "name": "stdout",
     "output_type": "stream",
     "text": [
      "Wall time: 7min 35s\n"
     ]
    },
    {
     "data": {
      "text/plain": [
       "(263119073, 295270528)"
      ]
     },
     "execution_count": 37,
     "metadata": {},
     "output_type": "execute_result"
    }
   ],
   "source": [
    "%%time\n",
    "w2v_model.train(documents, total_examples=len(documents), epochs=W2V_EPOCH)"
   ]
  },
  {
   "cell_type": "code",
   "execution_count": 40,
   "metadata": {
    "colab": {
     "base_uri": "https://localhost:8080/",
     "height": 292
    },
    "colab_type": "code",
    "id": "IuswtbP4pkCm",
    "outputId": "2ad59248-0e7a-485b-b272-9e3b9325fd84"
   },
   "outputs": [
    {
     "name": "stderr",
     "output_type": "stream",
     "text": [
      "C:\\New folder\\lib\\site-packages\\ipykernel_launcher.py:1: DeprecationWarning: Call to deprecated `most_similar` (Method will be removed in 4.0.0, use self.wv.most_similar() instead).\n",
      "  \"\"\"Entry point for launching an IPython kernel.\n"
     ]
    },
    {
     "data": {
      "text/plain": [
       "[('luv', 0.5672323703765869),\n",
       " ('loves', 0.5513563752174377),\n",
       " ('loved', 0.546675443649292),\n",
       " ('amazing', 0.5133724808692932),\n",
       " ('adore', 0.5112200379371643),\n",
       " ('looove', 0.4902918040752411),\n",
       " ('awesome', 0.46070125699043274),\n",
       " ('loooove', 0.44767796993255615),\n",
       " ('loveee', 0.4462668001651764),\n",
       " ('miss', 0.4351269602775574)]"
      ]
     },
     "execution_count": 40,
     "metadata": {},
     "output_type": "execute_result"
    }
   ],
   "source": [
    "w2v_model.most_similar(\"love\")"
   ]
  },
  {
   "cell_type": "code",
   "execution_count": 41,
   "metadata": {
    "colab": {
     "base_uri": "https://localhost:8080/",
     "height": 68
    },
    "colab_type": "code",
    "id": "7oCuEDEupkCo",
    "outputId": "527fe97f-c15a-46ed-cff3-1abdaefc829b"
   },
   "outputs": [
    {
     "name": "stdout",
     "output_type": "stream",
     "text": [
      "Total words 290419\n",
      "Wall time: 19.7 s\n"
     ]
    }
   ],
   "source": [
    "%%time\n",
    "tokenizer = Tokenizer()\n",
    "tokenizer.fit_on_texts(df_train.text)\n",
    "\n",
    "vocab_size = len(tokenizer.word_index) + 1\n",
    "print(\"Total words\", vocab_size)"
   ]
  },
  {
   "cell_type": "code",
   "execution_count": 42,
   "metadata": {
    "colab": {
     "base_uri": "https://localhost:8080/",
     "height": 51
    },
    "colab_type": "code",
    "id": "M4TpfxVTpkCp",
    "outputId": "1b6b2b5d-c168-4696-9a33-2ea4772f1ecc"
   },
   "outputs": [
    {
     "name": "stdout",
     "output_type": "stream",
     "text": [
      "Wall time: 28.8 s\n"
     ]
    }
   ],
   "source": [
    "%%time\n",
    "x_train = pad_sequences(tokenizer.texts_to_sequences(df_train.text), maxlen=SEQUENCE_LENGTH)\n",
    "x_test = pad_sequences(tokenizer.texts_to_sequences(df_test.text), maxlen=SEQUENCE_LENGTH)"
   ]
  },
  {
   "cell_type": "code",
   "execution_count": 43,
   "metadata": {
    "colab": {
     "base_uri": "https://localhost:8080/",
     "height": 34
    },
    "colab_type": "code",
    "id": "2MeSqbDFpkCs",
    "outputId": "2e736acf-89cd-4929-ae75-7f1dbc6191a0"
   },
   "outputs": [
    {
     "data": {
      "text/plain": [
       "['POSITIVE', 'NEGATIVE', 'NEUTRAL']"
      ]
     },
     "execution_count": 43,
     "metadata": {},
     "output_type": "execute_result"
    }
   ],
   "source": [
    "labels = df_train.target.unique().tolist()\n",
    "labels.append(NEUTRAL)\n",
    "labels"
   ]
  },
  {
   "cell_type": "code",
   "execution_count": 44,
   "metadata": {
    "colab": {
     "base_uri": "https://localhost:8080/",
     "height": 51
    },
    "colab_type": "code",
    "id": "Sf0A8sktpkCw",
    "outputId": "a5586bb3-676c-49ab-ab85-b6766b6b1731"
   },
   "outputs": [
    {
     "name": "stdout",
     "output_type": "stream",
     "text": [
      "y_train (1280000, 1)\n",
      "y_test (320000, 1)\n"
     ]
    }
   ],
   "source": [
    "encoder = LabelEncoder()\n",
    "encoder.fit(df_train.target.tolist())\n",
    "\n",
    "y_train = encoder.transform(df_train.target.tolist())\n",
    "y_test = encoder.transform(df_test.target.tolist())\n",
    "\n",
    "y_train = y_train.reshape(-1,1)\n",
    "y_test = y_test.reshape(-1,1)\n",
    "\n",
    "print(\"y_train\",y_train.shape)\n",
    "print(\"y_test\",y_test.shape)"
   ]
  },
  {
   "cell_type": "code",
   "execution_count": 45,
   "metadata": {
    "colab": {
     "base_uri": "https://localhost:8080/",
     "height": 102
    },
    "colab_type": "code",
    "id": "VK77L4d_pkCy",
    "outputId": "023d1a71-28bb-4d62-ae3b-5fcc0962506d"
   },
   "outputs": [
    {
     "name": "stdout",
     "output_type": "stream",
     "text": [
      "x_train (1280000, 300)\n",
      "y_train (1280000, 1)\n",
      "\n",
      "x_test (320000, 300)\n",
      "y_test (320000, 1)\n"
     ]
    }
   ],
   "source": [
    "print(\"x_train\", x_train.shape)\n",
    "print(\"y_train\", y_train.shape)\n",
    "print()\n",
    "print(\"x_test\", x_test.shape)\n",
    "print(\"y_test\", y_test.shape)"
   ]
  },
  {
   "cell_type": "code",
   "execution_count": 46,
   "metadata": {
    "colab": {
     "base_uri": "https://localhost:8080/",
     "height": 187
    },
    "colab_type": "code",
    "id": "fcMm0w-TpkC1",
    "outputId": "37df06f6-4441-4685-a76b-e619dba3de50"
   },
   "outputs": [
    {
     "data": {
      "text/plain": [
       "array([[1],\n",
       "       [1],\n",
       "       [1],\n",
       "       [0],\n",
       "       [1],\n",
       "       [1],\n",
       "       [1],\n",
       "       [1],\n",
       "       [1],\n",
       "       [1]], dtype=int64)"
      ]
     },
     "execution_count": 46,
     "metadata": {},
     "output_type": "execute_result"
    }
   ],
   "source": [
    "y_train[:10]"
   ]
  },
  {
   "cell_type": "code",
   "execution_count": 47,
   "metadata": {
    "colab": {
     "base_uri": "https://localhost:8080/",
     "height": 34
    },
    "colab_type": "code",
    "id": "eHnu54HapkC3",
    "outputId": "6b18ceae-5549-41da-dd84-b38e7458c8e0"
   },
   "outputs": [
    {
     "name": "stdout",
     "output_type": "stream",
     "text": [
      "(290419, 300)\n"
     ]
    }
   ],
   "source": [
    "embedding_matrix = np.zeros((vocab_size, W2V_SIZE))\n",
    "for word, i in tokenizer.word_index.items():\n",
    "    if word in w2v_model.wv:\n",
    "        embedding_matrix[i] = w2v_model.wv[word]\n",
    "print(embedding_matrix.shape)"
   ]
  },
  {
   "cell_type": "code",
   "execution_count": 48,
   "metadata": {
    "colab": {},
    "colab_type": "code",
    "id": "d13JWffUpkC4"
   },
   "outputs": [],
   "source": [
    "embedding_layer = Embedding(vocab_size, W2V_SIZE, weights=[embedding_matrix], input_length=SEQUENCE_LENGTH, trainable=False)"
   ]
  },
  {
   "cell_type": "code",
   "execution_count": 49,
   "metadata": {
    "colab": {
     "base_uri": "https://localhost:8080/",
     "height": 272
    },
    "colab_type": "code",
    "id": "eL7yr86QpkC6",
    "outputId": "ccefcd47-dc1b-464d-a0a9-2cb24c13e2d7"
   },
   "outputs": [
    {
     "name": "stdout",
     "output_type": "stream",
     "text": [
      "WARNING:tensorflow:From C:\\New folder\\lib\\site-packages\\tensorflow\\python\\framework\\op_def_library.py:263: colocate_with (from tensorflow.python.framework.ops) is deprecated and will be removed in a future version.\n",
      "Instructions for updating:\n",
      "Colocations handled automatically by placer.\n"
     ]
    },
    {
     "name": "stderr",
     "output_type": "stream",
     "text": [
      "2019-08-12 11:58:46,396 : WARNING : From C:\\New folder\\lib\\site-packages\\tensorflow\\python\\framework\\op_def_library.py:263: colocate_with (from tensorflow.python.framework.ops) is deprecated and will be removed in a future version.\n",
      "Instructions for updating:\n",
      "Colocations handled automatically by placer.\n"
     ]
    },
    {
     "name": "stdout",
     "output_type": "stream",
     "text": [
      "WARNING:tensorflow:From C:\\New folder\\lib\\site-packages\\keras\\backend\\tensorflow_backend.py:3445: calling dropout (from tensorflow.python.ops.nn_ops) with keep_prob is deprecated and will be removed in a future version.\n",
      "Instructions for updating:\n",
      "Please use `rate` instead of `keep_prob`. Rate should be set to `rate = 1 - keep_prob`.\n"
     ]
    },
    {
     "name": "stderr",
     "output_type": "stream",
     "text": [
      "2019-08-12 11:59:12,879 : WARNING : From C:\\New folder\\lib\\site-packages\\keras\\backend\\tensorflow_backend.py:3445: calling dropout (from tensorflow.python.ops.nn_ops) with keep_prob is deprecated and will be removed in a future version.\n",
      "Instructions for updating:\n",
      "Please use `rate` instead of `keep_prob`. Rate should be set to `rate = 1 - keep_prob`.\n"
     ]
    },
    {
     "name": "stdout",
     "output_type": "stream",
     "text": [
      "_________________________________________________________________\n",
      "Layer (type)                 Output Shape              Param #   \n",
      "=================================================================\n",
      "embedding_1 (Embedding)      (None, 300, 300)          87125700  \n",
      "_________________________________________________________________\n",
      "dropout_1 (Dropout)          (None, 300, 300)          0         \n",
      "_________________________________________________________________\n",
      "lstm_1 (LSTM)                (None, 100)               160400    \n",
      "_________________________________________________________________\n",
      "dense_1 (Dense)              (None, 1)                 101       \n",
      "=================================================================\n",
      "Total params: 87,286,201\n",
      "Trainable params: 160,501\n",
      "Non-trainable params: 87,125,700\n",
      "_________________________________________________________________\n"
     ]
    }
   ],
   "source": [
    "model = Sequential()\n",
    "model.add(embedding_layer)\n",
    "model.add(Dropout(0.5))\n",
    "model.add(LSTM(100, dropout=0.2, recurrent_dropout=0.2))\n",
    "model.add(Dense(1, activation='sigmoid'))\n",
    "\n",
    "model.summary()"
   ]
  },
  {
   "cell_type": "code",
   "execution_count": 50,
   "metadata": {
    "colab": {},
    "colab_type": "code",
    "id": "a8CXn7b6pkC8"
   },
   "outputs": [],
   "source": [
    "model.compile(loss='binary_crossentropy',\n",
    "              optimizer=\"adam\",\n",
    "              metrics=['accuracy'])"
   ]
  },
  {
   "cell_type": "code",
   "execution_count": 51,
   "metadata": {
    "colab": {},
    "colab_type": "code",
    "id": "sN8VoRgCpkC-"
   },
   "outputs": [],
   "source": [
    "callbacks = [ ReduceLROnPlateau(monitor='val_loss', patience=5, cooldown=0),\n",
    "              EarlyStopping(monitor='val_acc', min_delta=1e-4, patience=5)]"
   ]
  },
  {
   "cell_type": "code",
   "execution_count": null,
   "metadata": {
    "colab": {
     "base_uri": "https://localhost:8080/",
     "height": 340
    },
    "colab_type": "code",
    "id": "qP92qnelpkDA",
    "outputId": "ca335652-3e14-4c3b-95d5-8848f04a999d"
   },
   "outputs": [
    {
     "name": "stdout",
     "output_type": "stream",
     "text": [
      "WARNING:tensorflow:From C:\\New folder\\lib\\site-packages\\tensorflow\\python\\ops\\math_ops.py:3066: to_int32 (from tensorflow.python.ops.math_ops) is deprecated and will be removed in a future version.\n",
      "Instructions for updating:\n",
      "Use tf.cast instead.\n"
     ]
    },
    {
     "name": "stderr",
     "output_type": "stream",
     "text": [
      "2019-08-12 11:59:33,455 : WARNING : From C:\\New folder\\lib\\site-packages\\tensorflow\\python\\ops\\math_ops.py:3066: to_int32 (from tensorflow.python.ops.math_ops) is deprecated and will be removed in a future version.\n",
      "Instructions for updating:\n",
      "Use tf.cast instead.\n"
     ]
    },
    {
     "name": "stdout",
     "output_type": "stream",
     "text": [
      "Train on 1152000 samples, validate on 128000 samples\n",
      "Epoch 1/8\n",
      "  43008/1152000 [>.............................] - ETA: 3:38:03 - loss: 0.5949 - acc: 0.6745"
     ]
    }
   ],
   "source": [
    "%%time\n",
    "history = model.fit(x_train, y_train,\n",
    "                    batch_size=BATCH_SIZE,\n",
    "                    epochs=EPOCHS,\n",
    "                    validation_split=0.1,\n",
    "                    verbose=1,\n",
    "                    callbacks=callbacks)"
   ]
  },
  {
   "cell_type": "code",
   "execution_count": null,
   "metadata": {
    "colab": {
     "base_uri": "https://localhost:8080/",
     "height": 119
    },
    "colab_type": "code",
    "id": "Oh2HVklepkDC",
    "outputId": "77d2d128-4050-4dcc-d24e-ff2312df22e3"
   },
   "outputs": [],
   "source": [
    "%%time\n",
    "score = model.evaluate(x_test, y_test, batch_size=BATCH_SIZE)\n",
    "print()\n",
    "print(\"ACCURACY:\",score[1])\n",
    "print(\"LOSS:\",score[0])"
   ]
  },
  {
   "cell_type": "code",
   "execution_count": null,
   "metadata": {
    "colab": {
     "base_uri": "https://localhost:8080/",
     "height": 543
    },
    "colab_type": "code",
    "id": "KwI1WgfxpkDC",
    "outputId": "0fc61c78-4c89-42db-f512-61f936719571"
   },
   "outputs": [],
   "source": [
    "acc = history.history['acc']\n",
    "val_acc = history.history['val_acc']\n",
    "loss = history.history['loss']\n",
    "val_loss = history.history['val_loss']\n",
    " \n",
    "epochs = range(len(acc))\n",
    " \n",
    "plt.plot(epochs, acc, 'b', label='Training acc')\n",
    "plt.plot(epochs, val_acc, 'r', label='Validation acc')\n",
    "plt.title('Training and validation accuracy')\n",
    "plt.legend()\n",
    " \n",
    "plt.figure()\n",
    " \n",
    "plt.plot(epochs, loss, 'b', label='Training loss')\n",
    "plt.plot(epochs, val_loss, 'r', label='Validation loss')\n",
    "plt.title('Training and validation loss')\n",
    "plt.legend()\n",
    " \n",
    "plt.show()"
   ]
  },
  {
   "cell_type": "code",
   "execution_count": null,
   "metadata": {
    "colab": {},
    "colab_type": "code",
    "id": "1cAQwdwFpkDD"
   },
   "outputs": [],
   "source": [
    "def decode_sentiment(score, include_neutral=True):\n",
    "    if include_neutral:        \n",
    "        label = NEUTRAL\n",
    "        if score <= SENTIMENT_THRESHOLDS[0]:\n",
    "            label = NEGATIVE\n",
    "        elif score >= SENTIMENT_THRESHOLDS[1]:\n",
    "            label = POSITIVE\n",
    "\n",
    "        return label\n",
    "    else:\n",
    "        return NEGATIVE if score < 0.5 else POSITIVE"
   ]
  },
  {
   "cell_type": "code",
   "execution_count": null,
   "metadata": {
    "colab": {},
    "colab_type": "code",
    "id": "Qjg50l6KpkDH"
   },
   "outputs": [],
   "source": [
    "def predict(text, include_neutral=True):\n",
    "    start_at = time.time()\n",
    "    # Tokenize text\n",
    "    x_test = pad_sequences(tokenizer.texts_to_sequences([text]), maxlen=SEQUENCE_LENGTH)\n",
    "    # Predict\n",
    "    score = model.predict([x_test])[0]\n",
    "    # Decode sentiment\n",
    "    label = decode_sentiment(score, include_neutral=include_neutral)\n",
    "\n",
    "    return {\"label\": label, \"score\": float(score),\n",
    "       \"elapsed_time\": time.time()-start_at} "
   ]
  },
  {
   "cell_type": "code",
   "execution_count": null,
   "metadata": {
    "colab": {
     "base_uri": "https://localhost:8080/",
     "height": 68
    },
    "colab_type": "code",
    "id": "B7QXeMs-pkDI",
    "outputId": "0742a96e-48af-473a-e62c-216d79d8d8d5"
   },
   "outputs": [],
   "source": [
    "predict(\"I love the music\")"
   ]
  },
  {
   "cell_type": "code",
   "execution_count": null,
   "metadata": {
    "colab": {
     "base_uri": "https://localhost:8080/",
     "height": 68
    },
    "colab_type": "code",
    "id": "7bg_M66FpkDJ",
    "outputId": "6c10aad3-9a35-4dff-bb60-489f8fb982c2"
   },
   "outputs": [],
   "source": [
    "predict(\"I hate the rain\")"
   ]
  },
  {
   "cell_type": "code",
   "execution_count": null,
   "metadata": {
    "colab": {
     "base_uri": "https://localhost:8080/",
     "height": 68
    },
    "colab_type": "code",
    "id": "bsDqSZWJpkDN",
    "outputId": "071b4a21-9de0-4155-e265-9d40e3ae7949"
   },
   "outputs": [],
   "source": [
    "predict(\"i don't know what i'm doing\")"
   ]
  },
  {
   "cell_type": "code",
   "execution_count": null,
   "metadata": {
    "colab": {
     "base_uri": "https://localhost:8080/",
     "height": 68
    },
    "colab_type": "code",
    "id": "q6l5Xi9DpkDP",
    "outputId": "b2a04e7d-fd5e-4c99-e586-43961883ee22"
   },
   "outputs": [],
   "source": [
    "predict(\"awesome, I miss my flight\")"
   ]
  },
  {
   "cell_type": "code",
   "execution_count": null,
   "metadata": {
    "colab": {
     "base_uri": "https://localhost:8080/",
     "height": 68
    },
    "colab_type": "code",
    "id": "iOK-jy6qjNRl",
    "outputId": "a5169b15-31be-4fa8-8b1f-57eeb0d5f112"
   },
   "outputs": [],
   "source": [
    "predict(\"pleasure, to meet you\")"
   ]
  },
  {
   "cell_type": "code",
   "execution_count": null,
   "metadata": {
    "colab": {},
    "colab_type": "code",
    "id": "Q0capw5ujy_d"
   },
   "outputs": [],
   "source": []
  },
  {
   "cell_type": "code",
   "execution_count": null,
   "metadata": {},
   "outputs": [],
   "source": []
  },
  {
   "cell_type": "code",
   "execution_count": null,
   "metadata": {},
   "outputs": [],
   "source": []
  }
 ],
 "metadata": {
  "accelerator": "GPU",
  "colab": {
   "collapsed_sections": [],
   "name": "twitter_pedicting_NPN-checkpoint.ipynb",
   "provenance": [],
   "version": "0.3.2"
  },
  "kernelspec": {
   "display_name": "Python 3",
   "language": "python",
   "name": "python3"
  },
  "language_info": {
   "codemirror_mode": {
    "name": "ipython",
    "version": 3
   },
   "file_extension": ".py",
   "mimetype": "text/x-python",
   "name": "python",
   "nbconvert_exporter": "python",
   "pygments_lexer": "ipython3",
   "version": "3.6.4"
  }
 },
 "nbformat": 4,
 "nbformat_minor": 1
}
